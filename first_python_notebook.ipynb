{
 "cells": [
  {
   "cell_type": "code",
   "execution_count": 184,
   "id": "automotive-tackle",
   "metadata": {},
   "outputs": [],
   "source": [
    "import pandas as pd\n",
    "import altair as alt"
   ]
  },
  {
   "cell_type": "code",
   "execution_count": 185,
   "id": "incredible-oriental",
   "metadata": {},
   "outputs": [],
   "source": [
    "committee_list = pd.read_csv(\"committees.csv\")"
   ]
  },
  {
   "cell_type": "code",
   "execution_count": 186,
   "id": "lightweight-branch",
   "metadata": {},
   "outputs": [
    {
     "output_type": "execute_result",
     "data": {
      "text/plain": [
       "                                        ocd_prop_id  calaccess_prop_id  \\\n",
       "0  ocd-contest/b51dc64d-3562-4913-a190-69f5088c22a6            1376258   \n",
       "1  ocd-contest/b51dc64d-3562-4913-a190-69f5088c22a6            1376258   \n",
       "2  ocd-contest/b51dc64d-3562-4913-a190-69f5088c22a6            1376258   \n",
       "3  ocd-contest/b51dc64d-3562-4913-a190-69f5088c22a6            1376258   \n",
       "4  ocd-contest/85990193-9d6f-4600-b8e7-bf1317841d82            1362198   \n",
       "\n",
       "   ccdc_prop_id                                          prop_name  \\\n",
       "0            70  PROPOSITION 051 - SCHOOL BONDS. FUNDING FOR K-...   \n",
       "1            70  PROPOSITION 051 - SCHOOL BONDS. FUNDING FOR K-...   \n",
       "2            70  PROPOSITION 051 - SCHOOL BONDS. FUNDING FOR K-...   \n",
       "3            70  PROPOSITION 051 - SCHOOL BONDS. FUNDING FOR K-...   \n",
       "4            71  PROPOSITION 052 - STATE FEES ON HOSPITALS. FED...   \n",
       "\n",
       "   ccdc_committee_id  calaccess_committee_id  \\\n",
       "0                382                 1374469   \n",
       "1                383                 1220380   \n",
       "2                384                 1282321   \n",
       "3                385                 1382843   \n",
       "4                386                 1362973   \n",
       "\n",
       "                                      committee_name committee_position  \n",
       "0  YES ON PROPOSITION 51 - CALIFORNIANS FOR QUALI...            SUPPORT  \n",
       "1  COMMUNITY COLLEGE FACILITY COALITION ISSUES CO...            SUPPORT  \n",
       "2  TORLAKSON'S INVEST IN CALIFORNIA A BALLOT MEAS...            SUPPORT  \n",
       "3  CALIFORNIA TAXPAYERS AND EDUCATORS OPPOSED TO ...             OPPOSE  \n",
       "4  YES ON PROPOSITION 52 - A COALITION OF CALIFOR...            SUPPORT  "
      ],
      "text/html": "<div>\n<style scoped>\n    .dataframe tbody tr th:only-of-type {\n        vertical-align: middle;\n    }\n\n    .dataframe tbody tr th {\n        vertical-align: top;\n    }\n\n    .dataframe thead th {\n        text-align: right;\n    }\n</style>\n<table border=\"1\" class=\"dataframe\">\n  <thead>\n    <tr style=\"text-align: right;\">\n      <th></th>\n      <th>ocd_prop_id</th>\n      <th>calaccess_prop_id</th>\n      <th>ccdc_prop_id</th>\n      <th>prop_name</th>\n      <th>ccdc_committee_id</th>\n      <th>calaccess_committee_id</th>\n      <th>committee_name</th>\n      <th>committee_position</th>\n    </tr>\n  </thead>\n  <tbody>\n    <tr>\n      <th>0</th>\n      <td>ocd-contest/b51dc64d-3562-4913-a190-69f5088c22a6</td>\n      <td>1376258</td>\n      <td>70</td>\n      <td>PROPOSITION 051 - SCHOOL BONDS. FUNDING FOR K-...</td>\n      <td>382</td>\n      <td>1374469</td>\n      <td>YES ON PROPOSITION 51 - CALIFORNIANS FOR QUALI...</td>\n      <td>SUPPORT</td>\n    </tr>\n    <tr>\n      <th>1</th>\n      <td>ocd-contest/b51dc64d-3562-4913-a190-69f5088c22a6</td>\n      <td>1376258</td>\n      <td>70</td>\n      <td>PROPOSITION 051 - SCHOOL BONDS. FUNDING FOR K-...</td>\n      <td>383</td>\n      <td>1220380</td>\n      <td>COMMUNITY COLLEGE FACILITY COALITION ISSUES CO...</td>\n      <td>SUPPORT</td>\n    </tr>\n    <tr>\n      <th>2</th>\n      <td>ocd-contest/b51dc64d-3562-4913-a190-69f5088c22a6</td>\n      <td>1376258</td>\n      <td>70</td>\n      <td>PROPOSITION 051 - SCHOOL BONDS. FUNDING FOR K-...</td>\n      <td>384</td>\n      <td>1282321</td>\n      <td>TORLAKSON'S INVEST IN CALIFORNIA A BALLOT MEAS...</td>\n      <td>SUPPORT</td>\n    </tr>\n    <tr>\n      <th>3</th>\n      <td>ocd-contest/b51dc64d-3562-4913-a190-69f5088c22a6</td>\n      <td>1376258</td>\n      <td>70</td>\n      <td>PROPOSITION 051 - SCHOOL BONDS. FUNDING FOR K-...</td>\n      <td>385</td>\n      <td>1382843</td>\n      <td>CALIFORNIA TAXPAYERS AND EDUCATORS OPPOSED TO ...</td>\n      <td>OPPOSE</td>\n    </tr>\n    <tr>\n      <th>4</th>\n      <td>ocd-contest/85990193-9d6f-4600-b8e7-bf1317841d82</td>\n      <td>1362198</td>\n      <td>71</td>\n      <td>PROPOSITION 052 - STATE FEES ON HOSPITALS. FED...</td>\n      <td>386</td>\n      <td>1362973</td>\n      <td>YES ON PROPOSITION 52 - A COALITION OF CALIFOR...</td>\n      <td>SUPPORT</td>\n    </tr>\n  </tbody>\n</table>\n</div>"
     },
     "metadata": {},
     "execution_count": 186
    }
   ],
   "source": [
    "committee_list.head()"
   ]
  },
  {
   "cell_type": "code",
   "execution_count": 187,
   "id": "exceptional-sculpture",
   "metadata": {},
   "outputs": [
    {
     "output_type": "stream",
     "name": "stdout",
     "text": [
      "<class 'pandas.core.frame.DataFrame'>\nRangeIndex: 102 entries, 0 to 101\nData columns (total 8 columns):\n #   Column                  Non-Null Count  Dtype \n---  ------                  --------------  ----- \n 0   ocd_prop_id             102 non-null    object\n 1   calaccess_prop_id       102 non-null    int64 \n 2   ccdc_prop_id            102 non-null    int64 \n 3   prop_name               102 non-null    object\n 4   ccdc_committee_id       102 non-null    int64 \n 5   calaccess_committee_id  102 non-null    int64 \n 6   committee_name          102 non-null    object\n 7   committee_position      102 non-null    object\ndtypes: int64(4), object(4)\nmemory usage: 6.5+ KB\n"
     ]
    }
   ],
   "source": [
    "committee_list.info()"
   ]
  },
  {
   "cell_type": "code",
   "execution_count": 188,
   "id": "dedicated-familiar",
   "metadata": {},
   "outputs": [],
   "source": [
    "contrib_list = pd.read_csv(\"contributions.csv\")"
   ]
  },
  {
   "cell_type": "code",
   "execution_count": 189,
   "id": "prescription-coating",
   "metadata": {},
   "outputs": [
    {
     "output_type": "execute_result",
     "data": {
      "text/plain": [
       "   calaccess_committee_id                              committee_name  \\\n",
       "0                 1386560  ADULT USE CAMPAIGN FOR PROPOSITION 64; THE   \n",
       "1                 1386560  ADULT USE CAMPAIGN FOR PROPOSITION 64; THE   \n",
       "2                 1386560  ADULT USE CAMPAIGN FOR PROPOSITION 64; THE   \n",
       "3                 1386560  ADULT USE CAMPAIGN FOR PROPOSITION 64; THE   \n",
       "4                 1386560  ADULT USE CAMPAIGN FOR PROPOSITION 64; THE   \n",
       "\n",
       "   calaccess_filing_id date_received contributor_lastname  \\\n",
       "0              2083796    2016-09-18              BERGMAN   \n",
       "1              2083796    2016-09-18                KAHLE   \n",
       "2              2083796    2016-07-15             MCDEVITT   \n",
       "3              2083796    2016-08-10      WARREN-SAMARIPA   \n",
       "4              2083796    2016-07-26      WARREN-SAMARIPA   \n",
       "\n",
       "  contributor_firstname contributor_city contributor_state contributor_zip  \\\n",
       "0              GRETCHEN    SPRING VALLEY                CA           91978   \n",
       "1                 MYRNA        SAN DIEGO                CA           92109   \n",
       "2                   LEO        ESCONDIDO                CA           92025   \n",
       "3             STEPHANIE        SAN DIEGO                CA           92116   \n",
       "4             STEPHANIE        SAN DIEGO                CA           92116   \n",
       "\n",
       "        contributor_employer contributor_occupation  \\\n",
       "0                 A NEW PATH     EXECUTIVE DIRECTOR   \n",
       "1   NATIONAL SCHOOL DISTRICT                TEACHER   \n",
       "2              LIFE IONIZERS    SEO/CONTENT MANAGER   \n",
       "3  STEPHANIE WARREN SAMARIPA           ENTREPRENEUR   \n",
       "4  STEPHANIE WARREN SAMARIPA           ENTREPRENEUR   \n",
       "\n",
       "   contributor_is_self_employed  amount  \n",
       "0                         False    84.0  \n",
       "1                         False    35.0  \n",
       "2                         False   198.0  \n",
       "3                         False   -50.0  \n",
       "4                          True    50.0  "
      ],
      "text/html": "<div>\n<style scoped>\n    .dataframe tbody tr th:only-of-type {\n        vertical-align: middle;\n    }\n\n    .dataframe tbody tr th {\n        vertical-align: top;\n    }\n\n    .dataframe thead th {\n        text-align: right;\n    }\n</style>\n<table border=\"1\" class=\"dataframe\">\n  <thead>\n    <tr style=\"text-align: right;\">\n      <th></th>\n      <th>calaccess_committee_id</th>\n      <th>committee_name</th>\n      <th>calaccess_filing_id</th>\n      <th>date_received</th>\n      <th>contributor_lastname</th>\n      <th>contributor_firstname</th>\n      <th>contributor_city</th>\n      <th>contributor_state</th>\n      <th>contributor_zip</th>\n      <th>contributor_employer</th>\n      <th>contributor_occupation</th>\n      <th>contributor_is_self_employed</th>\n      <th>amount</th>\n    </tr>\n  </thead>\n  <tbody>\n    <tr>\n      <th>0</th>\n      <td>1386560</td>\n      <td>ADULT USE CAMPAIGN FOR PROPOSITION 64; THE</td>\n      <td>2083796</td>\n      <td>2016-09-18</td>\n      <td>BERGMAN</td>\n      <td>GRETCHEN</td>\n      <td>SPRING VALLEY</td>\n      <td>CA</td>\n      <td>91978</td>\n      <td>A NEW PATH</td>\n      <td>EXECUTIVE DIRECTOR</td>\n      <td>False</td>\n      <td>84.0</td>\n    </tr>\n    <tr>\n      <th>1</th>\n      <td>1386560</td>\n      <td>ADULT USE CAMPAIGN FOR PROPOSITION 64; THE</td>\n      <td>2083796</td>\n      <td>2016-09-18</td>\n      <td>KAHLE</td>\n      <td>MYRNA</td>\n      <td>SAN DIEGO</td>\n      <td>CA</td>\n      <td>92109</td>\n      <td>NATIONAL SCHOOL DISTRICT</td>\n      <td>TEACHER</td>\n      <td>False</td>\n      <td>35.0</td>\n    </tr>\n    <tr>\n      <th>2</th>\n      <td>1386560</td>\n      <td>ADULT USE CAMPAIGN FOR PROPOSITION 64; THE</td>\n      <td>2083796</td>\n      <td>2016-07-15</td>\n      <td>MCDEVITT</td>\n      <td>LEO</td>\n      <td>ESCONDIDO</td>\n      <td>CA</td>\n      <td>92025</td>\n      <td>LIFE IONIZERS</td>\n      <td>SEO/CONTENT MANAGER</td>\n      <td>False</td>\n      <td>198.0</td>\n    </tr>\n    <tr>\n      <th>3</th>\n      <td>1386560</td>\n      <td>ADULT USE CAMPAIGN FOR PROPOSITION 64; THE</td>\n      <td>2083796</td>\n      <td>2016-08-10</td>\n      <td>WARREN-SAMARIPA</td>\n      <td>STEPHANIE</td>\n      <td>SAN DIEGO</td>\n      <td>CA</td>\n      <td>92116</td>\n      <td>STEPHANIE WARREN SAMARIPA</td>\n      <td>ENTREPRENEUR</td>\n      <td>False</td>\n      <td>-50.0</td>\n    </tr>\n    <tr>\n      <th>4</th>\n      <td>1386560</td>\n      <td>ADULT USE CAMPAIGN FOR PROPOSITION 64; THE</td>\n      <td>2083796</td>\n      <td>2016-07-26</td>\n      <td>WARREN-SAMARIPA</td>\n      <td>STEPHANIE</td>\n      <td>SAN DIEGO</td>\n      <td>CA</td>\n      <td>92116</td>\n      <td>STEPHANIE WARREN SAMARIPA</td>\n      <td>ENTREPRENEUR</td>\n      <td>True</td>\n      <td>50.0</td>\n    </tr>\n  </tbody>\n</table>\n</div>"
     },
     "metadata": {},
     "execution_count": 189
    }
   ],
   "source": [
    "contrib_list.head()"
   ]
  },
  {
   "cell_type": "code",
   "execution_count": 190,
   "id": "instant-transsexual",
   "metadata": {},
   "outputs": [
    {
     "output_type": "stream",
     "name": "stdout",
     "text": [
      "<class 'pandas.core.frame.DataFrame'>\nRangeIndex: 56379 entries, 0 to 56378\nData columns (total 13 columns):\n #   Column                        Non-Null Count  Dtype  \n---  ------                        --------------  -----  \n 0   calaccess_committee_id        56379 non-null  int64  \n 1   committee_name                56379 non-null  object \n 2   calaccess_filing_id           56379 non-null  int64  \n 3   date_received                 56379 non-null  object \n 4   contributor_lastname          56375 non-null  object \n 5   contributor_firstname         53411 non-null  object \n 6   contributor_city              56369 non-null  object \n 7   contributor_state             56363 non-null  object \n 8   contributor_zip               56366 non-null  object \n 9   contributor_employer          48572 non-null  object \n 10  contributor_occupation        53273 non-null  object \n 11  contributor_is_self_employed  56379 non-null  bool   \n 12  amount                        56379 non-null  float64\ndtypes: bool(1), float64(1), int64(2), object(9)\nmemory usage: 5.2+ MB\n"
     ]
    }
   ],
   "source": [
    "contrib_list.info()"
   ]
  },
  {
   "cell_type": "code",
   "execution_count": 191,
   "id": "informative-breathing",
   "metadata": {},
   "outputs": [],
   "source": [
    "# #unique contributions \n",
    "# committee_list['prop_name'].unique()"
   ]
  },
  {
   "cell_type": "code",
   "execution_count": 192,
   "metadata": {},
   "outputs": [
    {
     "output_type": "execute_result",
     "data": {
      "text/plain": [
       "0      PROPOSITION 051 - SCHOOL BONDS. FUNDING FOR K-...\n",
       "1      PROPOSITION 051 - SCHOOL BONDS. FUNDING FOR K-...\n",
       "2      PROPOSITION 051 - SCHOOL BONDS. FUNDING FOR K-...\n",
       "3      PROPOSITION 051 - SCHOOL BONDS. FUNDING FOR K-...\n",
       "4      PROPOSITION 052 - STATE FEES ON HOSPITALS. FED...\n",
       "                             ...                        \n",
       "97     PROPOSITION 067- REFERENDUM TO OVERTURN BAN ON...\n",
       "98     PROPOSITION 067- REFERENDUM TO OVERTURN BAN ON...\n",
       "99     PROPOSITION 067- REFERENDUM TO OVERTURN BAN ON...\n",
       "100    PROPOSITION 067- REFERENDUM TO OVERTURN BAN ON...\n",
       "101    PROPOSITION 067- REFERENDUM TO OVERTURN BAN ON...\n",
       "Name: prop_name, Length: 102, dtype: object"
      ]
     },
     "metadata": {},
     "execution_count": 192
    }
   ],
   "source": [
    "committee_list.prop_name"
   ]
  },
  {
   "cell_type": "code",
   "execution_count": 193,
   "metadata": {},
   "outputs": [
    {
     "output_type": "execute_result",
     "data": {
      "text/plain": [
       "                                                index  prop_name\n",
       "0   PROPOSITION 057 - CRIMINAL SENTENCES. JUVENILE...         13\n",
       "1   PROPOSITION 056 - CIGARETTE TAX TO FUND HEALTH...         12\n",
       "2   PROPOSITION 064- MARIJUANA LEGALIZATION. INITI...         11\n",
       "3   PROPOSITION 066- DEATH PENALTY. PROCEDURES. IN...          9\n",
       "4   PROPOSITION 055 - TAX EXTENSION TO FUND EDUCAT...          8\n",
       "5   PROPOSITION 062- DEATH PENALTY. INITIATIVE STA...          7\n",
       "6   PROPOSITION 067- REFERENDUM TO OVERTURN BAN ON...          7\n",
       "7   PROPOSITION 059- SB 254 (CHAPTER 20, STATUTES ...          6\n",
       "8   PROPOSITION 054 - LEGISLATURE. LEGISLATION AND...          4\n",
       "9   PROPOSITION 063- FIREARMS. AMMUNITION SALES. I...          4\n",
       "10  PROPOSITION 053 - REVENUE BONDS. STATEWIDE VOT...          4\n",
       "11  PROPOSITION 058 - SB 1174 (CHAPTER 753, STATUT...          4\n",
       "12  PROPOSITION 051 - SCHOOL BONDS. FUNDING FOR K-...          4\n",
       "13  PROPOSITION 061- STATE PRESCRIPTION DRUG PURCH...          3\n",
       "14  PROPOSITION 052 - STATE FEES ON HOSPITALS. FED...          3\n",
       "15  PROPOSITION 060- ADULT FILMS. CONDOMS. HEALTH ...          2\n",
       "16  PROPOSITION 065- CARRY-OUT BAGS. CHARGES. INIT...          1"
      ],
      "text/html": "<div>\n<style scoped>\n    .dataframe tbody tr th:only-of-type {\n        vertical-align: middle;\n    }\n\n    .dataframe tbody tr th {\n        vertical-align: top;\n    }\n\n    .dataframe thead th {\n        text-align: right;\n    }\n</style>\n<table border=\"1\" class=\"dataframe\">\n  <thead>\n    <tr style=\"text-align: right;\">\n      <th></th>\n      <th>index</th>\n      <th>prop_name</th>\n    </tr>\n  </thead>\n  <tbody>\n    <tr>\n      <th>0</th>\n      <td>PROPOSITION 057 - CRIMINAL SENTENCES. JUVENILE...</td>\n      <td>13</td>\n    </tr>\n    <tr>\n      <th>1</th>\n      <td>PROPOSITION 056 - CIGARETTE TAX TO FUND HEALTH...</td>\n      <td>12</td>\n    </tr>\n    <tr>\n      <th>2</th>\n      <td>PROPOSITION 064- MARIJUANA LEGALIZATION. INITI...</td>\n      <td>11</td>\n    </tr>\n    <tr>\n      <th>3</th>\n      <td>PROPOSITION 066- DEATH PENALTY. PROCEDURES. IN...</td>\n      <td>9</td>\n    </tr>\n    <tr>\n      <th>4</th>\n      <td>PROPOSITION 055 - TAX EXTENSION TO FUND EDUCAT...</td>\n      <td>8</td>\n    </tr>\n    <tr>\n      <th>5</th>\n      <td>PROPOSITION 062- DEATH PENALTY. INITIATIVE STA...</td>\n      <td>7</td>\n    </tr>\n    <tr>\n      <th>6</th>\n      <td>PROPOSITION 067- REFERENDUM TO OVERTURN BAN ON...</td>\n      <td>7</td>\n    </tr>\n    <tr>\n      <th>7</th>\n      <td>PROPOSITION 059- SB 254 (CHAPTER 20, STATUTES ...</td>\n      <td>6</td>\n    </tr>\n    <tr>\n      <th>8</th>\n      <td>PROPOSITION 054 - LEGISLATURE. LEGISLATION AND...</td>\n      <td>4</td>\n    </tr>\n    <tr>\n      <th>9</th>\n      <td>PROPOSITION 063- FIREARMS. AMMUNITION SALES. I...</td>\n      <td>4</td>\n    </tr>\n    <tr>\n      <th>10</th>\n      <td>PROPOSITION 053 - REVENUE BONDS. STATEWIDE VOT...</td>\n      <td>4</td>\n    </tr>\n    <tr>\n      <th>11</th>\n      <td>PROPOSITION 058 - SB 1174 (CHAPTER 753, STATUT...</td>\n      <td>4</td>\n    </tr>\n    <tr>\n      <th>12</th>\n      <td>PROPOSITION 051 - SCHOOL BONDS. FUNDING FOR K-...</td>\n      <td>4</td>\n    </tr>\n    <tr>\n      <th>13</th>\n      <td>PROPOSITION 061- STATE PRESCRIPTION DRUG PURCH...</td>\n      <td>3</td>\n    </tr>\n    <tr>\n      <th>14</th>\n      <td>PROPOSITION 052 - STATE FEES ON HOSPITALS. FED...</td>\n      <td>3</td>\n    </tr>\n    <tr>\n      <th>15</th>\n      <td>PROPOSITION 060- ADULT FILMS. CONDOMS. HEALTH ...</td>\n      <td>2</td>\n    </tr>\n    <tr>\n      <th>16</th>\n      <td>PROPOSITION 065- CARRY-OUT BAGS. CHARGES. INIT...</td>\n      <td>1</td>\n    </tr>\n  </tbody>\n</table>\n</div>"
     },
     "metadata": {},
     "execution_count": 193
    }
   ],
   "source": [
    "committee_list.prop_name\n",
    "committee_list.prop_name.value_counts().reset_index()"
   ]
  },
  {
   "cell_type": "code",
   "execution_count": 194,
   "metadata": {},
   "outputs": [
    {
     "output_type": "execute_result",
     "data": {
      "text/plain": [
       "PROPOSITION 057 - CRIMINAL SENTENCES. JUVENILE CRIMINAL PROCEEDINGS AND SENTENCING. INITIATIVE CONSTITUTIONAL AMENDMENT AND STATUTE.                           13\n",
       "PROPOSITION 056 - CIGARETTE TAX TO FUND HEALTHCARE, TOBACCO USE PREVENTION, RESEARCH, AND LAW ENFORCEMENT. INITIATIVE CONSTITUTIONAL AMENDMENT AND STATUTE.    12\n",
       "PROPOSITION 064- MARIJUANA LEGALIZATION. INITIATIVE STATUTE.                                                                                                   11\n",
       "PROPOSITION 066- DEATH PENALTY. PROCEDURES. INITIATIVE STATUTE.                                                                                                 9\n",
       "PROPOSITION 055 - TAX EXTENSION TO FUND EDUCATION AND HEALTHCARE. INITIATIVE CONSTITUTIONAL AMENDMENT.                                                          8\n",
       "PROPOSITION 062- DEATH PENALTY. INITIATIVE STATUTE.                                                                                                             7\n",
       "PROPOSITION 067- REFERENDUM TO OVERTURN BAN ON SINGLE-USE PLASTIC BAGS.                                                                                         7\n",
       "PROPOSITION 059- SB 254 (CHAPTER 20, STATUTES OF 2016), ALLEN. CAMPAIGN FINANCE: VOTER INSTRUCTION                                                              6\n",
       "PROPOSITION 054 - LEGISLATURE. LEGISLATION AND PROCEEDINGS. INITIATIVE CONSTITUTIONAL AMENDMENT AND STATUTE.                                                    4\n",
       "PROPOSITION 063- FIREARMS. AMMUNITION SALES. INTIATIVE STATUTE.                                                                                                 4\n",
       "PROPOSITION 053 - REVENUE BONDS. STATEWIDE VOTER APPROVAL. INITIATIVE CONSTITUTIONAL AMENDMENT.                                                                 4\n",
       "PROPOSITION 058 - SB 1174 (CHAPTER 753, STATUTES OF 2014), LARA. ENGLISH LANGUAGE EDUCATION                                                                     4\n",
       "PROPOSITION 051 - SCHOOL BONDS. FUNDING FOR K-12 SCHOOL AND COMMUNITY COLLEGE FACILITIES. INITIATIVE STATUTORY AMENDMENT.                                       4\n",
       "PROPOSITION 061- STATE PRESCRIPTION DRUG PURCHASES. PRICING STANDARDS. INITIATIVE STATUTE.                                                                      3\n",
       "PROPOSITION 052 - STATE FEES ON HOSPITALS. FEDERAL MEDI-CAL MATCHING FUNDS. INITIATIVE STATUTORY AND CONSTITUTIONAL AMENDMENT.                                  3\n",
       "PROPOSITION 060- ADULT FILMS. CONDOMS. HEALTH REQUIREMENTS. INITIATIVE STATUTE.                                                                                 2\n",
       "PROPOSITION 065- CARRY-OUT BAGS. CHARGES. INITIATIVE STATUTE.                                                                                                   1\n",
       "Name: prop_name, dtype: int64"
      ]
     },
     "metadata": {},
     "execution_count": 194
    }
   ],
   "source": [
    "# Show which fundraising committees were active on Prop 64, which legalized rec. marijuana\n",
    "\n",
    "#value_counts() method shows full name of props unlike the prettified DataFrame \n",
    "committee_list.prop_name.value_counts()"
   ]
  },
  {
   "cell_type": "code",
   "execution_count": 195,
   "metadata": {},
   "outputs": [],
   "source": [
    "my_prop = 'PROPOSITION 067- REFERENDUM TO OVERTURN BAN ON SINGLE-USE PLASTIC BAGS.'"
   ]
  },
  {
   "cell_type": "code",
   "execution_count": 196,
   "metadata": {},
   "outputs": [
    {
     "output_type": "execute_result",
     "data": {
      "text/plain": [
       "                                          ocd_prop_id  calaccess_prop_id  \\\n",
       "95   ocd-contest/7495cdbe-1aa7-4c26-9a55-aa4130347b95            1372638   \n",
       "96   ocd-contest/7495cdbe-1aa7-4c26-9a55-aa4130347b95            1372638   \n",
       "97   ocd-contest/7495cdbe-1aa7-4c26-9a55-aa4130347b95            1372638   \n",
       "98   ocd-contest/7495cdbe-1aa7-4c26-9a55-aa4130347b95            1372638   \n",
       "99   ocd-contest/7495cdbe-1aa7-4c26-9a55-aa4130347b95            1372638   \n",
       "100  ocd-contest/7495cdbe-1aa7-4c26-9a55-aa4130347b95            1372638   \n",
       "101  ocd-contest/7495cdbe-1aa7-4c26-9a55-aa4130347b95            1372638   \n",
       "\n",
       "     ccdc_prop_id                                          prop_name  \\\n",
       "95             86  PROPOSITION 067- REFERENDUM TO OVERTURN BAN ON...   \n",
       "96             86  PROPOSITION 067- REFERENDUM TO OVERTURN BAN ON...   \n",
       "97             86  PROPOSITION 067- REFERENDUM TO OVERTURN BAN ON...   \n",
       "98             86  PROPOSITION 067- REFERENDUM TO OVERTURN BAN ON...   \n",
       "99             86  PROPOSITION 067- REFERENDUM TO OVERTURN BAN ON...   \n",
       "100            86  PROPOSITION 067- REFERENDUM TO OVERTURN BAN ON...   \n",
       "101            86  PROPOSITION 067- REFERENDUM TO OVERTURN BAN ON...   \n",
       "\n",
       "     ccdc_committee_id  calaccess_committee_id  \\\n",
       "95                 477                 1372900   \n",
       "96                 478                 1372902   \n",
       "97                 479                 1329332   \n",
       "98                 480                 1374885   \n",
       "99                 481                 1346973   \n",
       "100                482                 1381938   \n",
       "101                483                 1389817   \n",
       "\n",
       "                                        committee_name committee_position  \n",
       "95   YES ON 67 - PROTECT THE PLASTIC BAG BAN, SPONS...            SUPPORT  \n",
       "96   AMERICAN PROGRESSIVE BAG ALLIANCE, A PROJECT O...             OPPOSE  \n",
       "97   SAVE THE BAG BAN, YES ON 67, SPONSORED BY ENVI...            SUPPORT  \n",
       "98   YES ON 67 - CALIFORNIANS AGAINST WASTE - PROTE...            SUPPORT  \n",
       "99   CALIFORNIA GROCERS ASSOCIATION ISSUES COMMITTE...            SUPPORT  \n",
       "100      SAVE THE BAY ACTION FUND PAC - YES ON PROP 67            SUPPORT  \n",
       "101  SAVE THE BAY ACTION FUND COMMITTEE TO SUPPORT ...            SUPPORT  "
      ],
      "text/html": "<div>\n<style scoped>\n    .dataframe tbody tr th:only-of-type {\n        vertical-align: middle;\n    }\n\n    .dataframe tbody tr th {\n        vertical-align: top;\n    }\n\n    .dataframe thead th {\n        text-align: right;\n    }\n</style>\n<table border=\"1\" class=\"dataframe\">\n  <thead>\n    <tr style=\"text-align: right;\">\n      <th></th>\n      <th>ocd_prop_id</th>\n      <th>calaccess_prop_id</th>\n      <th>ccdc_prop_id</th>\n      <th>prop_name</th>\n      <th>ccdc_committee_id</th>\n      <th>calaccess_committee_id</th>\n      <th>committee_name</th>\n      <th>committee_position</th>\n    </tr>\n  </thead>\n  <tbody>\n    <tr>\n      <th>95</th>\n      <td>ocd-contest/7495cdbe-1aa7-4c26-9a55-aa4130347b95</td>\n      <td>1372638</td>\n      <td>86</td>\n      <td>PROPOSITION 067- REFERENDUM TO OVERTURN BAN ON...</td>\n      <td>477</td>\n      <td>1372900</td>\n      <td>YES ON 67 - PROTECT THE PLASTIC BAG BAN, SPONS...</td>\n      <td>SUPPORT</td>\n    </tr>\n    <tr>\n      <th>96</th>\n      <td>ocd-contest/7495cdbe-1aa7-4c26-9a55-aa4130347b95</td>\n      <td>1372638</td>\n      <td>86</td>\n      <td>PROPOSITION 067- REFERENDUM TO OVERTURN BAN ON...</td>\n      <td>478</td>\n      <td>1372902</td>\n      <td>AMERICAN PROGRESSIVE BAG ALLIANCE, A PROJECT O...</td>\n      <td>OPPOSE</td>\n    </tr>\n    <tr>\n      <th>97</th>\n      <td>ocd-contest/7495cdbe-1aa7-4c26-9a55-aa4130347b95</td>\n      <td>1372638</td>\n      <td>86</td>\n      <td>PROPOSITION 067- REFERENDUM TO OVERTURN BAN ON...</td>\n      <td>479</td>\n      <td>1329332</td>\n      <td>SAVE THE BAG BAN, YES ON 67, SPONSORED BY ENVI...</td>\n      <td>SUPPORT</td>\n    </tr>\n    <tr>\n      <th>98</th>\n      <td>ocd-contest/7495cdbe-1aa7-4c26-9a55-aa4130347b95</td>\n      <td>1372638</td>\n      <td>86</td>\n      <td>PROPOSITION 067- REFERENDUM TO OVERTURN BAN ON...</td>\n      <td>480</td>\n      <td>1374885</td>\n      <td>YES ON 67 - CALIFORNIANS AGAINST WASTE - PROTE...</td>\n      <td>SUPPORT</td>\n    </tr>\n    <tr>\n      <th>99</th>\n      <td>ocd-contest/7495cdbe-1aa7-4c26-9a55-aa4130347b95</td>\n      <td>1372638</td>\n      <td>86</td>\n      <td>PROPOSITION 067- REFERENDUM TO OVERTURN BAN ON...</td>\n      <td>481</td>\n      <td>1346973</td>\n      <td>CALIFORNIA GROCERS ASSOCIATION ISSUES COMMITTE...</td>\n      <td>SUPPORT</td>\n    </tr>\n    <tr>\n      <th>100</th>\n      <td>ocd-contest/7495cdbe-1aa7-4c26-9a55-aa4130347b95</td>\n      <td>1372638</td>\n      <td>86</td>\n      <td>PROPOSITION 067- REFERENDUM TO OVERTURN BAN ON...</td>\n      <td>482</td>\n      <td>1381938</td>\n      <td>SAVE THE BAY ACTION FUND PAC - YES ON PROP 67</td>\n      <td>SUPPORT</td>\n    </tr>\n    <tr>\n      <th>101</th>\n      <td>ocd-contest/7495cdbe-1aa7-4c26-9a55-aa4130347b95</td>\n      <td>1372638</td>\n      <td>86</td>\n      <td>PROPOSITION 067- REFERENDUM TO OVERTURN BAN ON...</td>\n      <td>483</td>\n      <td>1389817</td>\n      <td>SAVE THE BAY ACTION FUND COMMITTEE TO SUPPORT ...</td>\n      <td>SUPPORT</td>\n    </tr>\n  </tbody>\n</table>\n</div>"
     },
     "metadata": {},
     "execution_count": 196
    }
   ],
   "source": [
    "# Show which fundraising committees were active on Prop 64, which legalized rec. marijuana\n",
    "#filtering with operator ==\n",
    "committee_list[committee_list.prop_name == my_prop]"
   ]
  },
  {
   "cell_type": "code",
   "execution_count": 197,
   "metadata": {},
   "outputs": [],
   "source": [
    "my_committees = committee_list[committee_list.prop_name == my_prop]"
   ]
  },
  {
   "cell_type": "code",
   "execution_count": 198,
   "metadata": {},
   "outputs": [
    {
     "output_type": "execute_result",
     "data": {
      "text/plain": [
       "                                         ocd_prop_id  calaccess_prop_id  \\\n",
       "95  ocd-contest/7495cdbe-1aa7-4c26-9a55-aa4130347b95            1372638   \n",
       "96  ocd-contest/7495cdbe-1aa7-4c26-9a55-aa4130347b95            1372638   \n",
       "97  ocd-contest/7495cdbe-1aa7-4c26-9a55-aa4130347b95            1372638   \n",
       "98  ocd-contest/7495cdbe-1aa7-4c26-9a55-aa4130347b95            1372638   \n",
       "99  ocd-contest/7495cdbe-1aa7-4c26-9a55-aa4130347b95            1372638   \n",
       "\n",
       "    ccdc_prop_id                                          prop_name  \\\n",
       "95            86  PROPOSITION 067- REFERENDUM TO OVERTURN BAN ON...   \n",
       "96            86  PROPOSITION 067- REFERENDUM TO OVERTURN BAN ON...   \n",
       "97            86  PROPOSITION 067- REFERENDUM TO OVERTURN BAN ON...   \n",
       "98            86  PROPOSITION 067- REFERENDUM TO OVERTURN BAN ON...   \n",
       "99            86  PROPOSITION 067- REFERENDUM TO OVERTURN BAN ON...   \n",
       "\n",
       "    ccdc_committee_id  calaccess_committee_id  \\\n",
       "95                477                 1372900   \n",
       "96                478                 1372902   \n",
       "97                479                 1329332   \n",
       "98                480                 1374885   \n",
       "99                481                 1346973   \n",
       "\n",
       "                                       committee_name committee_position  \n",
       "95  YES ON 67 - PROTECT THE PLASTIC BAG BAN, SPONS...            SUPPORT  \n",
       "96  AMERICAN PROGRESSIVE BAG ALLIANCE, A PROJECT O...             OPPOSE  \n",
       "97  SAVE THE BAG BAN, YES ON 67, SPONSORED BY ENVI...            SUPPORT  \n",
       "98  YES ON 67 - CALIFORNIANS AGAINST WASTE - PROTE...            SUPPORT  \n",
       "99  CALIFORNIA GROCERS ASSOCIATION ISSUES COMMITTE...            SUPPORT  "
      ],
      "text/html": "<div>\n<style scoped>\n    .dataframe tbody tr th:only-of-type {\n        vertical-align: middle;\n    }\n\n    .dataframe tbody tr th {\n        vertical-align: top;\n    }\n\n    .dataframe thead th {\n        text-align: right;\n    }\n</style>\n<table border=\"1\" class=\"dataframe\">\n  <thead>\n    <tr style=\"text-align: right;\">\n      <th></th>\n      <th>ocd_prop_id</th>\n      <th>calaccess_prop_id</th>\n      <th>ccdc_prop_id</th>\n      <th>prop_name</th>\n      <th>ccdc_committee_id</th>\n      <th>calaccess_committee_id</th>\n      <th>committee_name</th>\n      <th>committee_position</th>\n    </tr>\n  </thead>\n  <tbody>\n    <tr>\n      <th>95</th>\n      <td>ocd-contest/7495cdbe-1aa7-4c26-9a55-aa4130347b95</td>\n      <td>1372638</td>\n      <td>86</td>\n      <td>PROPOSITION 067- REFERENDUM TO OVERTURN BAN ON...</td>\n      <td>477</td>\n      <td>1372900</td>\n      <td>YES ON 67 - PROTECT THE PLASTIC BAG BAN, SPONS...</td>\n      <td>SUPPORT</td>\n    </tr>\n    <tr>\n      <th>96</th>\n      <td>ocd-contest/7495cdbe-1aa7-4c26-9a55-aa4130347b95</td>\n      <td>1372638</td>\n      <td>86</td>\n      <td>PROPOSITION 067- REFERENDUM TO OVERTURN BAN ON...</td>\n      <td>478</td>\n      <td>1372902</td>\n      <td>AMERICAN PROGRESSIVE BAG ALLIANCE, A PROJECT O...</td>\n      <td>OPPOSE</td>\n    </tr>\n    <tr>\n      <th>97</th>\n      <td>ocd-contest/7495cdbe-1aa7-4c26-9a55-aa4130347b95</td>\n      <td>1372638</td>\n      <td>86</td>\n      <td>PROPOSITION 067- REFERENDUM TO OVERTURN BAN ON...</td>\n      <td>479</td>\n      <td>1329332</td>\n      <td>SAVE THE BAG BAN, YES ON 67, SPONSORED BY ENVI...</td>\n      <td>SUPPORT</td>\n    </tr>\n    <tr>\n      <th>98</th>\n      <td>ocd-contest/7495cdbe-1aa7-4c26-9a55-aa4130347b95</td>\n      <td>1372638</td>\n      <td>86</td>\n      <td>PROPOSITION 067- REFERENDUM TO OVERTURN BAN ON...</td>\n      <td>480</td>\n      <td>1374885</td>\n      <td>YES ON 67 - CALIFORNIANS AGAINST WASTE - PROTE...</td>\n      <td>SUPPORT</td>\n    </tr>\n    <tr>\n      <th>99</th>\n      <td>ocd-contest/7495cdbe-1aa7-4c26-9a55-aa4130347b95</td>\n      <td>1372638</td>\n      <td>86</td>\n      <td>PROPOSITION 067- REFERENDUM TO OVERTURN BAN ON...</td>\n      <td>481</td>\n      <td>1346973</td>\n      <td>CALIFORNIA GROCERS ASSOCIATION ISSUES COMMITTE...</td>\n      <td>SUPPORT</td>\n    </tr>\n  </tbody>\n</table>\n</div>"
     },
     "metadata": {},
     "execution_count": 198
    }
   ],
   "source": [
    "my_committees.head()"
   ]
  },
  {
   "cell_type": "code",
   "execution_count": 199,
   "metadata": {},
   "outputs": [
    {
     "output_type": "stream",
     "name": "stdout",
     "text": [
      "<class 'pandas.core.frame.DataFrame'>\nInt64Index: 7 entries, 95 to 101\nData columns (total 8 columns):\n #   Column                  Non-Null Count  Dtype \n---  ------                  --------------  ----- \n 0   ocd_prop_id             7 non-null      object\n 1   calaccess_prop_id       7 non-null      int64 \n 2   ccdc_prop_id            7 non-null      int64 \n 3   prop_name               7 non-null      object\n 4   ccdc_committee_id       7 non-null      int64 \n 5   calaccess_committee_id  7 non-null      int64 \n 6   committee_name          7 non-null      object\n 7   committee_position      7 non-null      object\ndtypes: int64(4), object(4)\nmemory usage: 504.0+ bytes\n"
     ]
    }
   ],
   "source": [
    "my_committees.info()"
   ]
  },
  {
   "cell_type": "code",
   "execution_count": 200,
   "metadata": {},
   "outputs": [
    {
     "output_type": "stream",
     "name": "stdout",
     "text": [
      "<class 'pandas.core.frame.DataFrame'>\nRangeIndex: 56379 entries, 0 to 56378\nData columns (total 13 columns):\n #   Column                        Non-Null Count  Dtype  \n---  ------                        --------------  -----  \n 0   calaccess_committee_id        56379 non-null  int64  \n 1   committee_name                56379 non-null  object \n 2   calaccess_filing_id           56379 non-null  int64  \n 3   date_received                 56379 non-null  object \n 4   contributor_lastname          56375 non-null  object \n 5   contributor_firstname         53411 non-null  object \n 6   contributor_city              56369 non-null  object \n 7   contributor_state             56363 non-null  object \n 8   contributor_zip               56366 non-null  object \n 9   contributor_employer          48572 non-null  object \n 10  contributor_occupation        53273 non-null  object \n 11  contributor_is_self_employed  56379 non-null  bool   \n 12  amount                        56379 non-null  float64\ndtypes: bool(1), float64(1), int64(2), object(9)\nmemory usage: 5.2+ MB\n"
     ]
    }
   ],
   "source": [
    "contrib_list.info()"
   ]
  },
  {
   "cell_type": "code",
   "execution_count": 201,
   "metadata": {},
   "outputs": [],
   "source": [
    "#merge() method can be used because contrib and committee lists both include the same calaccess ids\n",
    "merged = pd.merge(my_committees, contrib_list, on=\"calaccess_committee_id\")"
   ]
  },
  {
   "cell_type": "code",
   "execution_count": 202,
   "metadata": {},
   "outputs": [
    {
     "output_type": "stream",
     "name": "stdout",
     "text": [
      "<class 'pandas.core.frame.DataFrame'>\nInt64Index: 6279 entries, 0 to 6278\nData columns (total 20 columns):\n #   Column                        Non-Null Count  Dtype  \n---  ------                        --------------  -----  \n 0   ocd_prop_id                   6279 non-null   object \n 1   calaccess_prop_id             6279 non-null   int64  \n 2   ccdc_prop_id                  6279 non-null   int64  \n 3   prop_name                     6279 non-null   object \n 4   ccdc_committee_id             6279 non-null   int64  \n 5   calaccess_committee_id        6279 non-null   int64  \n 6   committee_name_x              6279 non-null   object \n 7   committee_position            6279 non-null   object \n 8   committee_name_y              6279 non-null   object \n 9   calaccess_filing_id           6279 non-null   int64  \n 10  date_received                 6279 non-null   object \n 11  contributor_lastname          6279 non-null   object \n 12  contributor_firstname         6211 non-null   object \n 13  contributor_city              6279 non-null   object \n 14  contributor_state             6278 non-null   object \n 15  contributor_zip               6278 non-null   object \n 16  contributor_employer          6092 non-null   object \n 17  contributor_occupation        6092 non-null   object \n 18  contributor_is_self_employed  6279 non-null   bool   \n 19  amount                        6279 non-null   float64\ndtypes: bool(1), float64(1), int64(5), object(13)\nmemory usage: 987.2+ KB\n"
     ]
    }
   ],
   "source": [
    "merged.info()"
   ]
  },
  {
   "cell_type": "code",
   "execution_count": 203,
   "metadata": {},
   "outputs": [
    {
     "output_type": "execute_result",
     "data": {
      "text/plain": [
       "                                        ocd_prop_id  calaccess_prop_id  \\\n",
       "0  ocd-contest/7495cdbe-1aa7-4c26-9a55-aa4130347b95            1372638   \n",
       "1  ocd-contest/7495cdbe-1aa7-4c26-9a55-aa4130347b95            1372638   \n",
       "2  ocd-contest/7495cdbe-1aa7-4c26-9a55-aa4130347b95            1372638   \n",
       "3  ocd-contest/7495cdbe-1aa7-4c26-9a55-aa4130347b95            1372638   \n",
       "4  ocd-contest/7495cdbe-1aa7-4c26-9a55-aa4130347b95            1372638   \n",
       "\n",
       "   ccdc_prop_id                                          prop_name  \\\n",
       "0            86  PROPOSITION 067- REFERENDUM TO OVERTURN BAN ON...   \n",
       "1            86  PROPOSITION 067- REFERENDUM TO OVERTURN BAN ON...   \n",
       "2            86  PROPOSITION 067- REFERENDUM TO OVERTURN BAN ON...   \n",
       "3            86  PROPOSITION 067- REFERENDUM TO OVERTURN BAN ON...   \n",
       "4            86  PROPOSITION 067- REFERENDUM TO OVERTURN BAN ON...   \n",
       "\n",
       "   ccdc_committee_id  calaccess_committee_id  \\\n",
       "0                477                 1372900   \n",
       "1                477                 1372900   \n",
       "2                477                 1372900   \n",
       "3                477                 1372900   \n",
       "4                477                 1372900   \n",
       "\n",
       "                                    committee_name_x committee_position  \\\n",
       "0  YES ON 67 - PROTECT THE PLASTIC BAG BAN, SPONS...            SUPPORT   \n",
       "1  YES ON 67 - PROTECT THE PLASTIC BAG BAN, SPONS...            SUPPORT   \n",
       "2  YES ON 67 - PROTECT THE PLASTIC BAG BAN, SPONS...            SUPPORT   \n",
       "3  YES ON 67 - PROTECT THE PLASTIC BAG BAN, SPONS...            SUPPORT   \n",
       "4  YES ON 67 - PROTECT THE PLASTIC BAG BAN, SPONS...            SUPPORT   \n",
       "\n",
       "                                    committee_name_y  calaccess_filing_id  \\\n",
       "0  YES ON 67 - PROTECT THE PLASTIC BAG BAN, SPONS...              1962528   \n",
       "1  YES ON 67 - PROTECT THE PLASTIC BAG BAN, SPONS...              1982014   \n",
       "2  YES ON 67 - PROTECT THE PLASTIC BAG BAN, SPONS...              1982014   \n",
       "3  YES ON 67 - PROTECT THE PLASTIC BAG BAN, SPONS...              1997827   \n",
       "4  YES ON 67 - PROTECT THE PLASTIC BAG BAN, SPONS...              2038229   \n",
       "\n",
       "  date_received                               contributor_lastname  \\\n",
       "0    2015-02-24  CALIFORNIA GROCERS ASSOCIATION ISSUES COMMITTE...   \n",
       "1    2015-05-06  CALIFORNIA LEAGUE OF CONSERVATION VOTERS ISSUE...   \n",
       "2    2015-04-21                  NATURAL RESOURCES DEFENSE COUNCIL   \n",
       "3    2015-09-28  RETAILERS FOR A BETTER CALIFORNIA SPONSORED BY...   \n",
       "4    2016-01-19                                      SUPER A FOODS   \n",
       "\n",
       "  contributor_firstname  contributor_city contributor_state contributor_zip  \\\n",
       "0                   NaN        SACRAMENTO                CA           95814   \n",
       "1                   NaN           OAKLAND                CA           94612   \n",
       "2                   NaN          NEW YORK                NY           10011   \n",
       "3                   NaN        SACRAMENTO                CA           95814   \n",
       "4                   NaN  CITY OF COMMERCE                CA           90040   \n",
       "\n",
       "  contributor_employer contributor_occupation  contributor_is_self_employed  \\\n",
       "0                  NaN                    NaN                         False   \n",
       "1                  NaN                    NaN                         False   \n",
       "2                  NaN                    NaN                         False   \n",
       "3                  NaN                    NaN                         False   \n",
       "4                  NaN                    NaN                         False   \n",
       "\n",
       "     amount  \n",
       "0  100000.0  \n",
       "1    5000.0  \n",
       "2    5000.0  \n",
       "3    5000.0  \n",
       "4    1000.0  "
      ],
      "text/html": "<div>\n<style scoped>\n    .dataframe tbody tr th:only-of-type {\n        vertical-align: middle;\n    }\n\n    .dataframe tbody tr th {\n        vertical-align: top;\n    }\n\n    .dataframe thead th {\n        text-align: right;\n    }\n</style>\n<table border=\"1\" class=\"dataframe\">\n  <thead>\n    <tr style=\"text-align: right;\">\n      <th></th>\n      <th>ocd_prop_id</th>\n      <th>calaccess_prop_id</th>\n      <th>ccdc_prop_id</th>\n      <th>prop_name</th>\n      <th>ccdc_committee_id</th>\n      <th>calaccess_committee_id</th>\n      <th>committee_name_x</th>\n      <th>committee_position</th>\n      <th>committee_name_y</th>\n      <th>calaccess_filing_id</th>\n      <th>date_received</th>\n      <th>contributor_lastname</th>\n      <th>contributor_firstname</th>\n      <th>contributor_city</th>\n      <th>contributor_state</th>\n      <th>contributor_zip</th>\n      <th>contributor_employer</th>\n      <th>contributor_occupation</th>\n      <th>contributor_is_self_employed</th>\n      <th>amount</th>\n    </tr>\n  </thead>\n  <tbody>\n    <tr>\n      <th>0</th>\n      <td>ocd-contest/7495cdbe-1aa7-4c26-9a55-aa4130347b95</td>\n      <td>1372638</td>\n      <td>86</td>\n      <td>PROPOSITION 067- REFERENDUM TO OVERTURN BAN ON...</td>\n      <td>477</td>\n      <td>1372900</td>\n      <td>YES ON 67 - PROTECT THE PLASTIC BAG BAN, SPONS...</td>\n      <td>SUPPORT</td>\n      <td>YES ON 67 - PROTECT THE PLASTIC BAG BAN, SPONS...</td>\n      <td>1962528</td>\n      <td>2015-02-24</td>\n      <td>CALIFORNIA GROCERS ASSOCIATION ISSUES COMMITTE...</td>\n      <td>NaN</td>\n      <td>SACRAMENTO</td>\n      <td>CA</td>\n      <td>95814</td>\n      <td>NaN</td>\n      <td>NaN</td>\n      <td>False</td>\n      <td>100000.0</td>\n    </tr>\n    <tr>\n      <th>1</th>\n      <td>ocd-contest/7495cdbe-1aa7-4c26-9a55-aa4130347b95</td>\n      <td>1372638</td>\n      <td>86</td>\n      <td>PROPOSITION 067- REFERENDUM TO OVERTURN BAN ON...</td>\n      <td>477</td>\n      <td>1372900</td>\n      <td>YES ON 67 - PROTECT THE PLASTIC BAG BAN, SPONS...</td>\n      <td>SUPPORT</td>\n      <td>YES ON 67 - PROTECT THE PLASTIC BAG BAN, SPONS...</td>\n      <td>1982014</td>\n      <td>2015-05-06</td>\n      <td>CALIFORNIA LEAGUE OF CONSERVATION VOTERS ISSUE...</td>\n      <td>NaN</td>\n      <td>OAKLAND</td>\n      <td>CA</td>\n      <td>94612</td>\n      <td>NaN</td>\n      <td>NaN</td>\n      <td>False</td>\n      <td>5000.0</td>\n    </tr>\n    <tr>\n      <th>2</th>\n      <td>ocd-contest/7495cdbe-1aa7-4c26-9a55-aa4130347b95</td>\n      <td>1372638</td>\n      <td>86</td>\n      <td>PROPOSITION 067- REFERENDUM TO OVERTURN BAN ON...</td>\n      <td>477</td>\n      <td>1372900</td>\n      <td>YES ON 67 - PROTECT THE PLASTIC BAG BAN, SPONS...</td>\n      <td>SUPPORT</td>\n      <td>YES ON 67 - PROTECT THE PLASTIC BAG BAN, SPONS...</td>\n      <td>1982014</td>\n      <td>2015-04-21</td>\n      <td>NATURAL RESOURCES DEFENSE COUNCIL</td>\n      <td>NaN</td>\n      <td>NEW YORK</td>\n      <td>NY</td>\n      <td>10011</td>\n      <td>NaN</td>\n      <td>NaN</td>\n      <td>False</td>\n      <td>5000.0</td>\n    </tr>\n    <tr>\n      <th>3</th>\n      <td>ocd-contest/7495cdbe-1aa7-4c26-9a55-aa4130347b95</td>\n      <td>1372638</td>\n      <td>86</td>\n      <td>PROPOSITION 067- REFERENDUM TO OVERTURN BAN ON...</td>\n      <td>477</td>\n      <td>1372900</td>\n      <td>YES ON 67 - PROTECT THE PLASTIC BAG BAN, SPONS...</td>\n      <td>SUPPORT</td>\n      <td>YES ON 67 - PROTECT THE PLASTIC BAG BAN, SPONS...</td>\n      <td>1997827</td>\n      <td>2015-09-28</td>\n      <td>RETAILERS FOR A BETTER CALIFORNIA SPONSORED BY...</td>\n      <td>NaN</td>\n      <td>SACRAMENTO</td>\n      <td>CA</td>\n      <td>95814</td>\n      <td>NaN</td>\n      <td>NaN</td>\n      <td>False</td>\n      <td>5000.0</td>\n    </tr>\n    <tr>\n      <th>4</th>\n      <td>ocd-contest/7495cdbe-1aa7-4c26-9a55-aa4130347b95</td>\n      <td>1372638</td>\n      <td>86</td>\n      <td>PROPOSITION 067- REFERENDUM TO OVERTURN BAN ON...</td>\n      <td>477</td>\n      <td>1372900</td>\n      <td>YES ON 67 - PROTECT THE PLASTIC BAG BAN, SPONS...</td>\n      <td>SUPPORT</td>\n      <td>YES ON 67 - PROTECT THE PLASTIC BAG BAN, SPONS...</td>\n      <td>2038229</td>\n      <td>2016-01-19</td>\n      <td>SUPER A FOODS</td>\n      <td>NaN</td>\n      <td>CITY OF COMMERCE</td>\n      <td>CA</td>\n      <td>90040</td>\n      <td>NaN</td>\n      <td>NaN</td>\n      <td>False</td>\n      <td>1000.0</td>\n    </tr>\n  </tbody>\n</table>\n</div>"
     },
     "metadata": {},
     "execution_count": 203
    }
   ],
   "source": [
    "merged.head()"
   ]
  },
  {
   "cell_type": "code",
   "execution_count": 204,
   "metadata": {},
   "outputs": [
    {
     "output_type": "execute_result",
     "data": {
      "text/plain": [
       "4470574.0"
      ]
     },
     "metadata": {},
     "execution_count": 204
    }
   ],
   "source": [
    "merged.amount.sum()"
   ]
  },
  {
   "cell_type": "code",
   "execution_count": 205,
   "metadata": {},
   "outputs": [],
   "source": [
    "support = merged[merged.committee_position == 'SUPPORT']\n",
    "oppose = merged[merged.committee_position == 'OPPOSE']"
   ]
  },
  {
   "cell_type": "code",
   "execution_count": 206,
   "metadata": {},
   "outputs": [
    {
     "output_type": "execute_result",
     "data": {
      "text/plain": [
       "2681413.25"
      ]
     },
     "metadata": {},
     "execution_count": 206
    }
   ],
   "source": [
    "oppose.amount.sum()"
   ]
  },
  {
   "cell_type": "code",
   "execution_count": 207,
   "metadata": {},
   "outputs": [
    {
     "output_type": "execute_result",
     "data": {
      "text/plain": [
       "1789160.75"
      ]
     },
     "metadata": {},
     "execution_count": 207
    }
   ],
   "source": [
    "support.amount.sum()"
   ]
  },
  {
   "cell_type": "code",
   "execution_count": 208,
   "metadata": {},
   "outputs": [
    {
     "output_type": "execute_result",
     "data": {
      "text/plain": [
       "0.40020828421585236"
      ]
     },
     "metadata": {},
     "execution_count": 208
    }
   ],
   "source": [
    "support.amount.sum() / merged.amount.sum()"
   ]
  },
  {
   "source": [
    "#sort default DataFrame resorts in ascending order lowest to hieghest\n",
    "\n",
    "merged.sort_values(\"amount\", ascending=False)"
   ],
   "cell_type": "markdown",
   "metadata": {}
  },
  {
   "cell_type": "code",
   "execution_count": 209,
   "metadata": {},
   "outputs": [
    {
     "output_type": "execute_result",
     "data": {
      "text/plain": [
       "                                          ocd_prop_id  calaccess_prop_id  \\\n",
       "141  ocd-contest/7495cdbe-1aa7-4c26-9a55-aa4130347b95            1372638   \n",
       "132  ocd-contest/7495cdbe-1aa7-4c26-9a55-aa4130347b95            1372638   \n",
       "140  ocd-contest/7495cdbe-1aa7-4c26-9a55-aa4130347b95            1372638   \n",
       "142  ocd-contest/7495cdbe-1aa7-4c26-9a55-aa4130347b95            1372638   \n",
       "133  ocd-contest/7495cdbe-1aa7-4c26-9a55-aa4130347b95            1372638   \n",
       "\n",
       "     ccdc_prop_id                                          prop_name  \\\n",
       "141            86  PROPOSITION 067- REFERENDUM TO OVERTURN BAN ON...   \n",
       "132            86  PROPOSITION 067- REFERENDUM TO OVERTURN BAN ON...   \n",
       "140            86  PROPOSITION 067- REFERENDUM TO OVERTURN BAN ON...   \n",
       "142            86  PROPOSITION 067- REFERENDUM TO OVERTURN BAN ON...   \n",
       "133            86  PROPOSITION 067- REFERENDUM TO OVERTURN BAN ON...   \n",
       "\n",
       "     ccdc_committee_id  calaccess_committee_id  \\\n",
       "141                478                 1372902   \n",
       "132                478                 1372902   \n",
       "140                478                 1372902   \n",
       "142                478                 1372902   \n",
       "133                478                 1372902   \n",
       "\n",
       "                                      committee_name_x committee_position  \\\n",
       "141  AMERICAN PROGRESSIVE BAG ALLIANCE, A PROJECT O...             OPPOSE   \n",
       "132  AMERICAN PROGRESSIVE BAG ALLIANCE, A PROJECT O...             OPPOSE   \n",
       "140  AMERICAN PROGRESSIVE BAG ALLIANCE, A PROJECT O...             OPPOSE   \n",
       "142  AMERICAN PROGRESSIVE BAG ALLIANCE, A PROJECT O...             OPPOSE   \n",
       "133  AMERICAN PROGRESSIVE BAG ALLIANCE, A PROJECT O...             OPPOSE   \n",
       "\n",
       "                                      committee_name_y  calaccess_filing_id  \\\n",
       "141  AMERICAN PROGRESSIVE BAG ALLIANCE, A PROJECT O...              2038213   \n",
       "132  AMERICAN PROGRESSIVE BAG ALLIANCE, A PROJECT O...              2012817   \n",
       "140  AMERICAN PROGRESSIVE BAG ALLIANCE, A PROJECT O...              2038213   \n",
       "142  AMERICAN PROGRESSIVE BAG ALLIANCE, A PROJECT O...              2038213   \n",
       "133  AMERICAN PROGRESSIVE BAG ALLIANCE, A PROJECT O...              2012817   \n",
       "\n",
       "    date_received                 contributor_lastname contributor_firstname  \\\n",
       "141    2016-01-25  FORMOSA PLASTICS CORPORATION U.S.A.                   NaN   \n",
       "132    2015-10-30  FORMOSA PLASTICS CORPORATION U.S.A.                   NaN   \n",
       "140    2016-01-13                   HILEX POLY CO. LLC                   NaN   \n",
       "142    2016-01-27                   HILEX POLY CO. LLC                   NaN   \n",
       "133    2015-11-17                   HILEX POLY CO. LLC                   NaN   \n",
       "\n",
       "    contributor_city contributor_state contributor_zip contributor_employer  \\\n",
       "141       LIVINGSTON                NJ            7039                  NaN   \n",
       "132       LIVINGSTON                NJ            7039                  NaN   \n",
       "140       HARTSVILLE                SC           29550                  NaN   \n",
       "142       HARTSVILLE                SC           29550                  NaN   \n",
       "133       HARTSVILLE                SC           29550                  NaN   \n",
       "\n",
       "    contributor_occupation  contributor_is_self_employed    amount  \n",
       "141                    NaN                         False  356441.5  \n",
       "132                    NaN                         False  350000.0  \n",
       "140                    NaN                         False  305675.0  \n",
       "142                    NaN                         False  299175.0  \n",
       "133                    NaN                         False  186585.0  "
      ],
      "text/html": "<div>\n<style scoped>\n    .dataframe tbody tr th:only-of-type {\n        vertical-align: middle;\n    }\n\n    .dataframe tbody tr th {\n        vertical-align: top;\n    }\n\n    .dataframe thead th {\n        text-align: right;\n    }\n</style>\n<table border=\"1\" class=\"dataframe\">\n  <thead>\n    <tr style=\"text-align: right;\">\n      <th></th>\n      <th>ocd_prop_id</th>\n      <th>calaccess_prop_id</th>\n      <th>ccdc_prop_id</th>\n      <th>prop_name</th>\n      <th>ccdc_committee_id</th>\n      <th>calaccess_committee_id</th>\n      <th>committee_name_x</th>\n      <th>committee_position</th>\n      <th>committee_name_y</th>\n      <th>calaccess_filing_id</th>\n      <th>date_received</th>\n      <th>contributor_lastname</th>\n      <th>contributor_firstname</th>\n      <th>contributor_city</th>\n      <th>contributor_state</th>\n      <th>contributor_zip</th>\n      <th>contributor_employer</th>\n      <th>contributor_occupation</th>\n      <th>contributor_is_self_employed</th>\n      <th>amount</th>\n    </tr>\n  </thead>\n  <tbody>\n    <tr>\n      <th>141</th>\n      <td>ocd-contest/7495cdbe-1aa7-4c26-9a55-aa4130347b95</td>\n      <td>1372638</td>\n      <td>86</td>\n      <td>PROPOSITION 067- REFERENDUM TO OVERTURN BAN ON...</td>\n      <td>478</td>\n      <td>1372902</td>\n      <td>AMERICAN PROGRESSIVE BAG ALLIANCE, A PROJECT O...</td>\n      <td>OPPOSE</td>\n      <td>AMERICAN PROGRESSIVE BAG ALLIANCE, A PROJECT O...</td>\n      <td>2038213</td>\n      <td>2016-01-25</td>\n      <td>FORMOSA PLASTICS CORPORATION U.S.A.</td>\n      <td>NaN</td>\n      <td>LIVINGSTON</td>\n      <td>NJ</td>\n      <td>7039</td>\n      <td>NaN</td>\n      <td>NaN</td>\n      <td>False</td>\n      <td>356441.5</td>\n    </tr>\n    <tr>\n      <th>132</th>\n      <td>ocd-contest/7495cdbe-1aa7-4c26-9a55-aa4130347b95</td>\n      <td>1372638</td>\n      <td>86</td>\n      <td>PROPOSITION 067- REFERENDUM TO OVERTURN BAN ON...</td>\n      <td>478</td>\n      <td>1372902</td>\n      <td>AMERICAN PROGRESSIVE BAG ALLIANCE, A PROJECT O...</td>\n      <td>OPPOSE</td>\n      <td>AMERICAN PROGRESSIVE BAG ALLIANCE, A PROJECT O...</td>\n      <td>2012817</td>\n      <td>2015-10-30</td>\n      <td>FORMOSA PLASTICS CORPORATION U.S.A.</td>\n      <td>NaN</td>\n      <td>LIVINGSTON</td>\n      <td>NJ</td>\n      <td>7039</td>\n      <td>NaN</td>\n      <td>NaN</td>\n      <td>False</td>\n      <td>350000.0</td>\n    </tr>\n    <tr>\n      <th>140</th>\n      <td>ocd-contest/7495cdbe-1aa7-4c26-9a55-aa4130347b95</td>\n      <td>1372638</td>\n      <td>86</td>\n      <td>PROPOSITION 067- REFERENDUM TO OVERTURN BAN ON...</td>\n      <td>478</td>\n      <td>1372902</td>\n      <td>AMERICAN PROGRESSIVE BAG ALLIANCE, A PROJECT O...</td>\n      <td>OPPOSE</td>\n      <td>AMERICAN PROGRESSIVE BAG ALLIANCE, A PROJECT O...</td>\n      <td>2038213</td>\n      <td>2016-01-13</td>\n      <td>HILEX POLY CO. LLC</td>\n      <td>NaN</td>\n      <td>HARTSVILLE</td>\n      <td>SC</td>\n      <td>29550</td>\n      <td>NaN</td>\n      <td>NaN</td>\n      <td>False</td>\n      <td>305675.0</td>\n    </tr>\n    <tr>\n      <th>142</th>\n      <td>ocd-contest/7495cdbe-1aa7-4c26-9a55-aa4130347b95</td>\n      <td>1372638</td>\n      <td>86</td>\n      <td>PROPOSITION 067- REFERENDUM TO OVERTURN BAN ON...</td>\n      <td>478</td>\n      <td>1372902</td>\n      <td>AMERICAN PROGRESSIVE BAG ALLIANCE, A PROJECT O...</td>\n      <td>OPPOSE</td>\n      <td>AMERICAN PROGRESSIVE BAG ALLIANCE, A PROJECT O...</td>\n      <td>2038213</td>\n      <td>2016-01-27</td>\n      <td>HILEX POLY CO. LLC</td>\n      <td>NaN</td>\n      <td>HARTSVILLE</td>\n      <td>SC</td>\n      <td>29550</td>\n      <td>NaN</td>\n      <td>NaN</td>\n      <td>False</td>\n      <td>299175.0</td>\n    </tr>\n    <tr>\n      <th>133</th>\n      <td>ocd-contest/7495cdbe-1aa7-4c26-9a55-aa4130347b95</td>\n      <td>1372638</td>\n      <td>86</td>\n      <td>PROPOSITION 067- REFERENDUM TO OVERTURN BAN ON...</td>\n      <td>478</td>\n      <td>1372902</td>\n      <td>AMERICAN PROGRESSIVE BAG ALLIANCE, A PROJECT O...</td>\n      <td>OPPOSE</td>\n      <td>AMERICAN PROGRESSIVE BAG ALLIANCE, A PROJECT O...</td>\n      <td>2012817</td>\n      <td>2015-11-17</td>\n      <td>HILEX POLY CO. LLC</td>\n      <td>NaN</td>\n      <td>HARTSVILLE</td>\n      <td>SC</td>\n      <td>29550</td>\n      <td>NaN</td>\n      <td>NaN</td>\n      <td>False</td>\n      <td>186585.0</td>\n    </tr>\n  </tbody>\n</table>\n</div>"
     },
     "metadata": {},
     "execution_count": 209
    }
   ],
   "source": [
    "merged.sort_values(\"amount\", ascending=False).head()\n",
    "\n",
    "#descending order, first 5 with head method. first 10 without\n",
    "# can run this on support or oppose variables ofc as well"
   ]
  },
  {
   "cell_type": "code",
   "execution_count": 210,
   "metadata": {},
   "outputs": [
    {
     "output_type": "execute_result",
     "data": {
      "text/plain": [
       "   contributor_state      amount\n",
       "1                 CA  1530376.75\n",
       "16                TX  1056402.75\n",
       "14                SC   874769.00\n",
       "7                 NJ   748631.50\n",
       "0                 AZ   155040.00\n",
       "11                OH    80200.00\n",
       "10                NY    10700.00\n",
       "3                 FL     5000.00\n",
       "9                 NV     2500.00\n",
       "15                TN     2210.00\n",
       "17                VA     1150.00\n",
       "8                 NM      640.00\n",
       "2                 CO      436.00\n",
       "12                OR      420.00\n",
       "5                 IL      380.00\n",
       "18                WA      350.00\n",
       "4                 HI      280.00\n",
       "6                 KS       96.00\n",
       "13                PA       22.00"
      ],
      "text/html": "<div>\n<style scoped>\n    .dataframe tbody tr th:only-of-type {\n        vertical-align: middle;\n    }\n\n    .dataframe tbody tr th {\n        vertical-align: top;\n    }\n\n    .dataframe thead th {\n        text-align: right;\n    }\n</style>\n<table border=\"1\" class=\"dataframe\">\n  <thead>\n    <tr style=\"text-align: right;\">\n      <th></th>\n      <th>contributor_state</th>\n      <th>amount</th>\n    </tr>\n  </thead>\n  <tbody>\n    <tr>\n      <th>1</th>\n      <td>CA</td>\n      <td>1530376.75</td>\n    </tr>\n    <tr>\n      <th>16</th>\n      <td>TX</td>\n      <td>1056402.75</td>\n    </tr>\n    <tr>\n      <th>14</th>\n      <td>SC</td>\n      <td>874769.00</td>\n    </tr>\n    <tr>\n      <th>7</th>\n      <td>NJ</td>\n      <td>748631.50</td>\n    </tr>\n    <tr>\n      <th>0</th>\n      <td>AZ</td>\n      <td>155040.00</td>\n    </tr>\n    <tr>\n      <th>11</th>\n      <td>OH</td>\n      <td>80200.00</td>\n    </tr>\n    <tr>\n      <th>10</th>\n      <td>NY</td>\n      <td>10700.00</td>\n    </tr>\n    <tr>\n      <th>3</th>\n      <td>FL</td>\n      <td>5000.00</td>\n    </tr>\n    <tr>\n      <th>9</th>\n      <td>NV</td>\n      <td>2500.00</td>\n    </tr>\n    <tr>\n      <th>15</th>\n      <td>TN</td>\n      <td>2210.00</td>\n    </tr>\n    <tr>\n      <th>17</th>\n      <td>VA</td>\n      <td>1150.00</td>\n    </tr>\n    <tr>\n      <th>8</th>\n      <td>NM</td>\n      <td>640.00</td>\n    </tr>\n    <tr>\n      <th>2</th>\n      <td>CO</td>\n      <td>436.00</td>\n    </tr>\n    <tr>\n      <th>12</th>\n      <td>OR</td>\n      <td>420.00</td>\n    </tr>\n    <tr>\n      <th>5</th>\n      <td>IL</td>\n      <td>380.00</td>\n    </tr>\n    <tr>\n      <th>18</th>\n      <td>WA</td>\n      <td>350.00</td>\n    </tr>\n    <tr>\n      <th>4</th>\n      <td>HI</td>\n      <td>280.00</td>\n    </tr>\n    <tr>\n      <th>6</th>\n      <td>KS</td>\n      <td>96.00</td>\n    </tr>\n    <tr>\n      <th>13</th>\n      <td>PA</td>\n      <td>22.00</td>\n    </tr>\n  </tbody>\n</table>\n</div>"
     },
     "metadata": {},
     "execution_count": 210
    }
   ],
   "source": [
    "merged.groupby(\"contributor_state\").amount.sum().reset_index().sort_values(\"amount\", ascending=False)\n",
    "\n",
    "#show states contributors contribution amounts"
   ]
  },
  {
   "cell_type": "code",
   "execution_count": 211,
   "metadata": {},
   "outputs": [
    {
     "output_type": "execute_result",
     "data": {
      "text/plain": [
       "     contributor_firstname                 contributor_lastname  \\\n",
       "11                                           HILEX POLY CO. LLC   \n",
       "10                          FORMOSA PLASTICS CORPORATION U.S.A.   \n",
       "35                                               SUPERBAG CORP.   \n",
       "0                                         ADVANCE POLYBAG, INC.   \n",
       "4                                CALIFORNIA GROCERS ASSOCIATION   \n",
       "...                    ...                                  ...   \n",
       "891               JENNIFER                            CHAMBLISS   \n",
       "121                 ANGELA                               SAMSEL   \n",
       "853                  JARED                            KUENSTLER   \n",
       "1621                 PETER                              WILLETT   \n",
       "1213                  LEAH                            HENRIKSON   \n",
       "\n",
       "     committee_position     amount  \n",
       "11               OPPOSE  874769.00  \n",
       "10               OPPOSE  748441.50  \n",
       "35               OPPOSE  609369.75  \n",
       "0                OPPOSE  446833.00  \n",
       "4               SUPPORT  200000.00  \n",
       "...                 ...        ...  \n",
       "891             SUPPORT      20.00  \n",
       "121             SUPPORT      20.00  \n",
       "853             SUPPORT      20.00  \n",
       "1621            SUPPORT      20.00  \n",
       "1213            SUPPORT      20.00  \n",
       "\n",
       "[2057 rows x 4 columns]"
      ],
      "text/html": "<div>\n<style scoped>\n    .dataframe tbody tr th:only-of-type {\n        vertical-align: middle;\n    }\n\n    .dataframe tbody tr th {\n        vertical-align: top;\n    }\n\n    .dataframe thead th {\n        text-align: right;\n    }\n</style>\n<table border=\"1\" class=\"dataframe\">\n  <thead>\n    <tr style=\"text-align: right;\">\n      <th></th>\n      <th>contributor_firstname</th>\n      <th>contributor_lastname</th>\n      <th>committee_position</th>\n      <th>amount</th>\n    </tr>\n  </thead>\n  <tbody>\n    <tr>\n      <th>11</th>\n      <td></td>\n      <td>HILEX POLY CO. LLC</td>\n      <td>OPPOSE</td>\n      <td>874769.00</td>\n    </tr>\n    <tr>\n      <th>10</th>\n      <td></td>\n      <td>FORMOSA PLASTICS CORPORATION U.S.A.</td>\n      <td>OPPOSE</td>\n      <td>748441.50</td>\n    </tr>\n    <tr>\n      <th>35</th>\n      <td></td>\n      <td>SUPERBAG CORP.</td>\n      <td>OPPOSE</td>\n      <td>609369.75</td>\n    </tr>\n    <tr>\n      <th>0</th>\n      <td></td>\n      <td>ADVANCE POLYBAG, INC.</td>\n      <td>OPPOSE</td>\n      <td>446833.00</td>\n    </tr>\n    <tr>\n      <th>4</th>\n      <td></td>\n      <td>CALIFORNIA GROCERS ASSOCIATION</td>\n      <td>SUPPORT</td>\n      <td>200000.00</td>\n    </tr>\n    <tr>\n      <th>...</th>\n      <td>...</td>\n      <td>...</td>\n      <td>...</td>\n      <td>...</td>\n    </tr>\n    <tr>\n      <th>891</th>\n      <td>JENNIFER</td>\n      <td>CHAMBLISS</td>\n      <td>SUPPORT</td>\n      <td>20.00</td>\n    </tr>\n    <tr>\n      <th>121</th>\n      <td>ANGELA</td>\n      <td>SAMSEL</td>\n      <td>SUPPORT</td>\n      <td>20.00</td>\n    </tr>\n    <tr>\n      <th>853</th>\n      <td>JARED</td>\n      <td>KUENSTLER</td>\n      <td>SUPPORT</td>\n      <td>20.00</td>\n    </tr>\n    <tr>\n      <th>1621</th>\n      <td>PETER</td>\n      <td>WILLETT</td>\n      <td>SUPPORT</td>\n      <td>20.00</td>\n    </tr>\n    <tr>\n      <th>1213</th>\n      <td>LEAH</td>\n      <td>HENRIKSON</td>\n      <td>SUPPORT</td>\n      <td>20.00</td>\n    </tr>\n  </tbody>\n</table>\n<p>2057 rows × 4 columns</p>\n</div>"
     },
     "metadata": {},
     "execution_count": 211
    }
   ],
   "source": [
    "merged.fillna(\"\").groupby([\"contributor_firstname\", \"contributor_lastname\", \"committee_position\"]).amount.sum().reset_index().sort_values(\"amount\", ascending=False)"
   ]
  },
  {
   "cell_type": "code",
   "execution_count": 212,
   "metadata": {},
   "outputs": [],
   "source": [
    "top_supporters = support.fillna(\"\").groupby([\"contributor_firstname\", \"contributor_lastname\", \"committee_position\"]).amount.sum().reset_index().sort_values(\"amount\", ascending=False).head(10)"
   ]
  },
  {
   "cell_type": "code",
   "execution_count": 213,
   "metadata": {},
   "outputs": [
    {
     "output_type": "execute_result",
     "data": {
      "text/plain": [
       "     contributor_firstname                               contributor_lastname  \\\n",
       "3                                              CALIFORNIA GROCERS ASSOCIATION   \n",
       "0                           ALBERTSONS SAFEWAY (FORMERLY KNOWN AS SAFEWAY,...   \n",
       "1054                 JULIE                                            PACKARD   \n",
       "4                           CALIFORNIA GROCERS ASSOCIATION ISSUES COMMITTE...   \n",
       "365                 CLAIRE                                              PERRY   \n",
       "18                                                         RALPHS/FOOD 4 LESS   \n",
       "24                                         SAVE THE BAY (NONPROFIT 501(C)(3))   \n",
       "32                                                     THE NATURE CONSERVANCY   \n",
       "1947              THOMAS F                                             STEYER   \n",
       "25                                                   SAVE THE BAY ACTION FUND   \n",
       "\n",
       "     committee_position    amount  \n",
       "3               SUPPORT  200000.0  \n",
       "0               SUPPORT  150000.0  \n",
       "1054            SUPPORT  105000.0  \n",
       "4               SUPPORT  100000.0  \n",
       "365             SUPPORT  100000.0  \n",
       "18              SUPPORT   80000.0  \n",
       "24              SUPPORT   50000.0  \n",
       "32              SUPPORT   50000.0  \n",
       "1947            SUPPORT   50000.0  \n",
       "25              SUPPORT   40000.0  "
      ],
      "text/html": "<div>\n<style scoped>\n    .dataframe tbody tr th:only-of-type {\n        vertical-align: middle;\n    }\n\n    .dataframe tbody tr th {\n        vertical-align: top;\n    }\n\n    .dataframe thead th {\n        text-align: right;\n    }\n</style>\n<table border=\"1\" class=\"dataframe\">\n  <thead>\n    <tr style=\"text-align: right;\">\n      <th></th>\n      <th>contributor_firstname</th>\n      <th>contributor_lastname</th>\n      <th>committee_position</th>\n      <th>amount</th>\n    </tr>\n  </thead>\n  <tbody>\n    <tr>\n      <th>3</th>\n      <td></td>\n      <td>CALIFORNIA GROCERS ASSOCIATION</td>\n      <td>SUPPORT</td>\n      <td>200000.0</td>\n    </tr>\n    <tr>\n      <th>0</th>\n      <td></td>\n      <td>ALBERTSONS SAFEWAY (FORMERLY KNOWN AS SAFEWAY,...</td>\n      <td>SUPPORT</td>\n      <td>150000.0</td>\n    </tr>\n    <tr>\n      <th>1054</th>\n      <td>JULIE</td>\n      <td>PACKARD</td>\n      <td>SUPPORT</td>\n      <td>105000.0</td>\n    </tr>\n    <tr>\n      <th>4</th>\n      <td></td>\n      <td>CALIFORNIA GROCERS ASSOCIATION ISSUES COMMITTE...</td>\n      <td>SUPPORT</td>\n      <td>100000.0</td>\n    </tr>\n    <tr>\n      <th>365</th>\n      <td>CLAIRE</td>\n      <td>PERRY</td>\n      <td>SUPPORT</td>\n      <td>100000.0</td>\n    </tr>\n    <tr>\n      <th>18</th>\n      <td></td>\n      <td>RALPHS/FOOD 4 LESS</td>\n      <td>SUPPORT</td>\n      <td>80000.0</td>\n    </tr>\n    <tr>\n      <th>24</th>\n      <td></td>\n      <td>SAVE THE BAY (NONPROFIT 501(C)(3))</td>\n      <td>SUPPORT</td>\n      <td>50000.0</td>\n    </tr>\n    <tr>\n      <th>32</th>\n      <td></td>\n      <td>THE NATURE CONSERVANCY</td>\n      <td>SUPPORT</td>\n      <td>50000.0</td>\n    </tr>\n    <tr>\n      <th>1947</th>\n      <td>THOMAS F</td>\n      <td>STEYER</td>\n      <td>SUPPORT</td>\n      <td>50000.0</td>\n    </tr>\n    <tr>\n      <th>25</th>\n      <td></td>\n      <td>SAVE THE BAY ACTION FUND</td>\n      <td>SUPPORT</td>\n      <td>40000.0</td>\n    </tr>\n  </tbody>\n</table>\n</div>"
     },
     "metadata": {},
     "execution_count": 213
    }
   ],
   "source": [
    "top_supporters.head(10)"
   ]
  },
  {
   "cell_type": "code",
   "execution_count": 214,
   "metadata": {},
   "outputs": [
    {
     "output_type": "execute_result",
     "data": {
      "text/html": "\n<div id=\"altair-viz-a684988546d64254a745fa4358966d81\"></div>\n<script type=\"text/javascript\">\n  (function(spec, embedOpt){\n    let outputDiv = document.currentScript.previousElementSibling;\n    if (outputDiv.id !== \"altair-viz-a684988546d64254a745fa4358966d81\") {\n      outputDiv = document.getElementById(\"altair-viz-a684988546d64254a745fa4358966d81\");\n    }\n    const paths = {\n      \"vega\": \"https://cdn.jsdelivr.net/npm//vega@5?noext\",\n      \"vega-lib\": \"https://cdn.jsdelivr.net/npm//vega-lib?noext\",\n      \"vega-lite\": \"https://cdn.jsdelivr.net/npm//vega-lite@4.8.1?noext\",\n      \"vega-embed\": \"https://cdn.jsdelivr.net/npm//vega-embed@6?noext\",\n    };\n\n    function loadScript(lib) {\n      return new Promise(function(resolve, reject) {\n        var s = document.createElement('script');\n        s.src = paths[lib];\n        s.async = true;\n        s.onload = () => resolve(paths[lib]);\n        s.onerror = () => reject(`Error loading script: ${paths[lib]}`);\n        document.getElementsByTagName(\"head\")[0].appendChild(s);\n      });\n    }\n\n    function showError(err) {\n      outputDiv.innerHTML = `<div class=\"error\" style=\"color:red;\">${err}</div>`;\n      throw err;\n    }\n\n    function displayChart(vegaEmbed) {\n      vegaEmbed(outputDiv, spec, embedOpt)\n        .catch(err => showError(`Javascript Error: ${err.message}<br>This usually means there's a typo in your chart specification. See the javascript console for the full traceback.`));\n    }\n\n    if(typeof define === \"function\" && define.amd) {\n      requirejs.config({paths});\n      require([\"vega-embed\"], displayChart, err => showError(`Error loading script: ${err.message}`));\n    } else if (typeof vegaEmbed === \"function\") {\n      displayChart(vegaEmbed);\n    } else {\n      loadScript(\"vega\")\n        .then(() => loadScript(\"vega-lite\"))\n        .then(() => loadScript(\"vega-embed\"))\n        .catch(showError)\n        .then(() => displayChart(vegaEmbed));\n    }\n  })({\"config\": {\"view\": {\"continuousWidth\": 400, \"continuousHeight\": 300}}, \"data\": {\"name\": \"data-1f3743d0351131151d606eb82a822e4b\"}, \"mark\": \"bar\", \"encoding\": {\"x\": {\"type\": \"nominal\", \"field\": \"contributor_lastname\"}, \"y\": {\"type\": \"quantitative\", \"field\": \"amount\"}}, \"$schema\": \"https://vega.github.io/schema/vega-lite/v4.8.1.json\", \"datasets\": {\"data-1f3743d0351131151d606eb82a822e4b\": [{\"contributor_firstname\": \"\", \"contributor_lastname\": \"CALIFORNIA GROCERS ASSOCIATION\", \"committee_position\": \"SUPPORT\", \"amount\": 200000.0}, {\"contributor_firstname\": \"\", \"contributor_lastname\": \"ALBERTSONS SAFEWAY (FORMERLY KNOWN AS SAFEWAY, INC. INCLUDING ITS AFFILIATED ENTITY THE VONS COMPANIES, INC.)\", \"committee_position\": \"SUPPORT\", \"amount\": 150000.0}, {\"contributor_firstname\": \"JULIE\", \"contributor_lastname\": \"PACKARD\", \"committee_position\": \"SUPPORT\", \"amount\": 105000.0}, {\"contributor_firstname\": \"\", \"contributor_lastname\": \"CALIFORNIA GROCERS ASSOCIATION ISSUES COMMITTEE (NON PROFIT 501 (C) 6)\", \"committee_position\": \"SUPPORT\", \"amount\": 100000.0}, {\"contributor_firstname\": \"CLAIRE\", \"contributor_lastname\": \"PERRY\", \"committee_position\": \"SUPPORT\", \"amount\": 100000.0}, {\"contributor_firstname\": \"\", \"contributor_lastname\": \"RALPHS/FOOD 4 LESS\", \"committee_position\": \"SUPPORT\", \"amount\": 80000.0}, {\"contributor_firstname\": \"\", \"contributor_lastname\": \"SAVE THE BAY (NONPROFIT 501(C)(3))\", \"committee_position\": \"SUPPORT\", \"amount\": 50000.0}, {\"contributor_firstname\": \"\", \"contributor_lastname\": \"THE NATURE CONSERVANCY\", \"committee_position\": \"SUPPORT\", \"amount\": 50000.0}, {\"contributor_firstname\": \"THOMAS F\", \"contributor_lastname\": \"STEYER\", \"committee_position\": \"SUPPORT\", \"amount\": 50000.0}, {\"contributor_firstname\": \"\", \"contributor_lastname\": \"SAVE THE BAY ACTION FUND\", \"committee_position\": \"SUPPORT\", \"amount\": 40000.0}]}}, {\"mode\": \"vega-lite\"});\n</script>",
      "text/plain": [
       "alt.Chart(...)"
      ]
     },
     "metadata": {},
     "execution_count": 214
    }
   ],
   "source": [
    "alt.Chart(top_supporters).mark_bar().encode(\n",
    "    x=\"contributor_lastname\",\n",
    "    y=\"amount\"\n",
    ")"
   ]
  },
  {
   "cell_type": "code",
   "execution_count": 215,
   "metadata": {},
   "outputs": [
    {
     "output_type": "execute_result",
     "data": {
      "text/html": "\n<div id=\"altair-viz-c91a963e603444a0a57e2e87c459110a\"></div>\n<script type=\"text/javascript\">\n  (function(spec, embedOpt){\n    let outputDiv = document.currentScript.previousElementSibling;\n    if (outputDiv.id !== \"altair-viz-c91a963e603444a0a57e2e87c459110a\") {\n      outputDiv = document.getElementById(\"altair-viz-c91a963e603444a0a57e2e87c459110a\");\n    }\n    const paths = {\n      \"vega\": \"https://cdn.jsdelivr.net/npm//vega@5?noext\",\n      \"vega-lib\": \"https://cdn.jsdelivr.net/npm//vega-lib?noext\",\n      \"vega-lite\": \"https://cdn.jsdelivr.net/npm//vega-lite@4.8.1?noext\",\n      \"vega-embed\": \"https://cdn.jsdelivr.net/npm//vega-embed@6?noext\",\n    };\n\n    function loadScript(lib) {\n      return new Promise(function(resolve, reject) {\n        var s = document.createElement('script');\n        s.src = paths[lib];\n        s.async = true;\n        s.onload = () => resolve(paths[lib]);\n        s.onerror = () => reject(`Error loading script: ${paths[lib]}`);\n        document.getElementsByTagName(\"head\")[0].appendChild(s);\n      });\n    }\n\n    function showError(err) {\n      outputDiv.innerHTML = `<div class=\"error\" style=\"color:red;\">${err}</div>`;\n      throw err;\n    }\n\n    function displayChart(vegaEmbed) {\n      vegaEmbed(outputDiv, spec, embedOpt)\n        .catch(err => showError(`Javascript Error: ${err.message}<br>This usually means there's a typo in your chart specification. See the javascript console for the full traceback.`));\n    }\n\n    if(typeof define === \"function\" && define.amd) {\n      requirejs.config({paths});\n      require([\"vega-embed\"], displayChart, err => showError(`Error loading script: ${err.message}`));\n    } else if (typeof vegaEmbed === \"function\") {\n      displayChart(vegaEmbed);\n    } else {\n      loadScript(\"vega\")\n        .then(() => loadScript(\"vega-lite\"))\n        .then(() => loadScript(\"vega-embed\"))\n        .catch(showError)\n        .then(() => displayChart(vegaEmbed));\n    }\n  })({\"config\": {\"view\": {\"continuousWidth\": 400, \"continuousHeight\": 300}}, \"data\": {\"name\": \"data-1f3743d0351131151d606eb82a822e4b\"}, \"mark\": \"bar\", \"encoding\": {\"x\": {\"type\": \"quantitative\", \"field\": \"amount\"}, \"y\": {\"type\": \"nominal\", \"field\": \"contributor_lastname\"}}, \"$schema\": \"https://vega.github.io/schema/vega-lite/v4.8.1.json\", \"datasets\": {\"data-1f3743d0351131151d606eb82a822e4b\": [{\"contributor_firstname\": \"\", \"contributor_lastname\": \"CALIFORNIA GROCERS ASSOCIATION\", \"committee_position\": \"SUPPORT\", \"amount\": 200000.0}, {\"contributor_firstname\": \"\", \"contributor_lastname\": \"ALBERTSONS SAFEWAY (FORMERLY KNOWN AS SAFEWAY, INC. INCLUDING ITS AFFILIATED ENTITY THE VONS COMPANIES, INC.)\", \"committee_position\": \"SUPPORT\", \"amount\": 150000.0}, {\"contributor_firstname\": \"JULIE\", \"contributor_lastname\": \"PACKARD\", \"committee_position\": \"SUPPORT\", \"amount\": 105000.0}, {\"contributor_firstname\": \"\", \"contributor_lastname\": \"CALIFORNIA GROCERS ASSOCIATION ISSUES COMMITTEE (NON PROFIT 501 (C) 6)\", \"committee_position\": \"SUPPORT\", \"amount\": 100000.0}, {\"contributor_firstname\": \"CLAIRE\", \"contributor_lastname\": \"PERRY\", \"committee_position\": \"SUPPORT\", \"amount\": 100000.0}, {\"contributor_firstname\": \"\", \"contributor_lastname\": \"RALPHS/FOOD 4 LESS\", \"committee_position\": \"SUPPORT\", \"amount\": 80000.0}, {\"contributor_firstname\": \"\", \"contributor_lastname\": \"SAVE THE BAY (NONPROFIT 501(C)(3))\", \"committee_position\": \"SUPPORT\", \"amount\": 50000.0}, {\"contributor_firstname\": \"\", \"contributor_lastname\": \"THE NATURE CONSERVANCY\", \"committee_position\": \"SUPPORT\", \"amount\": 50000.0}, {\"contributor_firstname\": \"THOMAS F\", \"contributor_lastname\": \"STEYER\", \"committee_position\": \"SUPPORT\", \"amount\": 50000.0}, {\"contributor_firstname\": \"\", \"contributor_lastname\": \"SAVE THE BAY ACTION FUND\", \"committee_position\": \"SUPPORT\", \"amount\": 40000.0}]}}, {\"mode\": \"vega-lite\"});\n</script>",
      "text/plain": [
       "alt.Chart(...)"
      ]
     },
     "metadata": {},
     "execution_count": 215
    }
   ],
   "source": [
    "alt.Chart(top_supporters).mark_bar().encode(\n",
    "    x=\"amount\",\n",
    "    y=\"contributor_lastname\"\n",
    ")"
   ]
  },
  {
   "cell_type": "code",
   "execution_count": 216,
   "metadata": {},
   "outputs": [],
   "source": [
    "top_supporters['contributor_fullname'] = top_supporters.contributor_firstname + \" \" + top_supporters.contributor_lastname"
   ]
  },
  {
   "cell_type": "code",
   "execution_count": 217,
   "metadata": {},
   "outputs": [
    {
     "output_type": "execute_result",
     "data": {
      "text/html": "\n<div id=\"altair-viz-768b99285394446e9c9fa2ca0b8e5d25\"></div>\n<script type=\"text/javascript\">\n  (function(spec, embedOpt){\n    let outputDiv = document.currentScript.previousElementSibling;\n    if (outputDiv.id !== \"altair-viz-768b99285394446e9c9fa2ca0b8e5d25\") {\n      outputDiv = document.getElementById(\"altair-viz-768b99285394446e9c9fa2ca0b8e5d25\");\n    }\n    const paths = {\n      \"vega\": \"https://cdn.jsdelivr.net/npm//vega@5?noext\",\n      \"vega-lib\": \"https://cdn.jsdelivr.net/npm//vega-lib?noext\",\n      \"vega-lite\": \"https://cdn.jsdelivr.net/npm//vega-lite@4.8.1?noext\",\n      \"vega-embed\": \"https://cdn.jsdelivr.net/npm//vega-embed@6?noext\",\n    };\n\n    function loadScript(lib) {\n      return new Promise(function(resolve, reject) {\n        var s = document.createElement('script');\n        s.src = paths[lib];\n        s.async = true;\n        s.onload = () => resolve(paths[lib]);\n        s.onerror = () => reject(`Error loading script: ${paths[lib]}`);\n        document.getElementsByTagName(\"head\")[0].appendChild(s);\n      });\n    }\n\n    function showError(err) {\n      outputDiv.innerHTML = `<div class=\"error\" style=\"color:red;\">${err}</div>`;\n      throw err;\n    }\n\n    function displayChart(vegaEmbed) {\n      vegaEmbed(outputDiv, spec, embedOpt)\n        .catch(err => showError(`Javascript Error: ${err.message}<br>This usually means there's a typo in your chart specification. See the javascript console for the full traceback.`));\n    }\n\n    if(typeof define === \"function\" && define.amd) {\n      requirejs.config({paths});\n      require([\"vega-embed\"], displayChart, err => showError(`Error loading script: ${err.message}`));\n    } else if (typeof vegaEmbed === \"function\") {\n      displayChart(vegaEmbed);\n    } else {\n      loadScript(\"vega\")\n        .then(() => loadScript(\"vega-lite\"))\n        .then(() => loadScript(\"vega-embed\"))\n        .catch(showError)\n        .then(() => displayChart(vegaEmbed));\n    }\n  })({\"config\": {\"view\": {\"continuousWidth\": 400, \"continuousHeight\": 300}}, \"data\": {\"name\": \"data-4f9a0fd8bc51b7ec4096d61ded34985d\"}, \"mark\": \"bar\", \"encoding\": {\"x\": {\"type\": \"quantitative\", \"field\": \"amount\"}, \"y\": {\"type\": \"nominal\", \"field\": \"contributor_fullname\"}}, \"$schema\": \"https://vega.github.io/schema/vega-lite/v4.8.1.json\", \"datasets\": {\"data-4f9a0fd8bc51b7ec4096d61ded34985d\": [{\"contributor_firstname\": \"\", \"contributor_lastname\": \"CALIFORNIA GROCERS ASSOCIATION\", \"committee_position\": \"SUPPORT\", \"amount\": 200000.0, \"contributor_fullname\": \" CALIFORNIA GROCERS ASSOCIATION\"}, {\"contributor_firstname\": \"\", \"contributor_lastname\": \"ALBERTSONS SAFEWAY (FORMERLY KNOWN AS SAFEWAY, INC. INCLUDING ITS AFFILIATED ENTITY THE VONS COMPANIES, INC.)\", \"committee_position\": \"SUPPORT\", \"amount\": 150000.0, \"contributor_fullname\": \" ALBERTSONS SAFEWAY (FORMERLY KNOWN AS SAFEWAY, INC. INCLUDING ITS AFFILIATED ENTITY THE VONS COMPANIES, INC.)\"}, {\"contributor_firstname\": \"JULIE\", \"contributor_lastname\": \"PACKARD\", \"committee_position\": \"SUPPORT\", \"amount\": 105000.0, \"contributor_fullname\": \"JULIE PACKARD\"}, {\"contributor_firstname\": \"\", \"contributor_lastname\": \"CALIFORNIA GROCERS ASSOCIATION ISSUES COMMITTEE (NON PROFIT 501 (C) 6)\", \"committee_position\": \"SUPPORT\", \"amount\": 100000.0, \"contributor_fullname\": \" CALIFORNIA GROCERS ASSOCIATION ISSUES COMMITTEE (NON PROFIT 501 (C) 6)\"}, {\"contributor_firstname\": \"CLAIRE\", \"contributor_lastname\": \"PERRY\", \"committee_position\": \"SUPPORT\", \"amount\": 100000.0, \"contributor_fullname\": \"CLAIRE PERRY\"}]}}, {\"mode\": \"vega-lite\"});\n</script>",
      "text/plain": [
       "alt.Chart(...)"
      ]
     },
     "metadata": {},
     "execution_count": 217
    }
   ],
   "source": [
    "alt.Chart(top_supporters.head(5)).mark_bar().encode(\n",
    "    x=\"amount\",\n",
    "    y=\"contributor_fullname\"\n",
    ")"
   ]
  },
  {
   "cell_type": "code",
   "execution_count": 218,
   "metadata": {},
   "outputs": [
    {
     "output_type": "execute_result",
     "data": {
      "text/html": "\n<div id=\"altair-viz-2299157469194d1bb6a3fccb8f880776\"></div>\n<script type=\"text/javascript\">\n  (function(spec, embedOpt){\n    let outputDiv = document.currentScript.previousElementSibling;\n    if (outputDiv.id !== \"altair-viz-2299157469194d1bb6a3fccb8f880776\") {\n      outputDiv = document.getElementById(\"altair-viz-2299157469194d1bb6a3fccb8f880776\");\n    }\n    const paths = {\n      \"vega\": \"https://cdn.jsdelivr.net/npm//vega@5?noext\",\n      \"vega-lib\": \"https://cdn.jsdelivr.net/npm//vega-lib?noext\",\n      \"vega-lite\": \"https://cdn.jsdelivr.net/npm//vega-lite@4.8.1?noext\",\n      \"vega-embed\": \"https://cdn.jsdelivr.net/npm//vega-embed@6?noext\",\n    };\n\n    function loadScript(lib) {\n      return new Promise(function(resolve, reject) {\n        var s = document.createElement('script');\n        s.src = paths[lib];\n        s.async = true;\n        s.onload = () => resolve(paths[lib]);\n        s.onerror = () => reject(`Error loading script: ${paths[lib]}`);\n        document.getElementsByTagName(\"head\")[0].appendChild(s);\n      });\n    }\n\n    function showError(err) {\n      outputDiv.innerHTML = `<div class=\"error\" style=\"color:red;\">${err}</div>`;\n      throw err;\n    }\n\n    function displayChart(vegaEmbed) {\n      vegaEmbed(outputDiv, spec, embedOpt)\n        .catch(err => showError(`Javascript Error: ${err.message}<br>This usually means there's a typo in your chart specification. See the javascript console for the full traceback.`));\n    }\n\n    if(typeof define === \"function\" && define.amd) {\n      requirejs.config({paths});\n      require([\"vega-embed\"], displayChart, err => showError(`Error loading script: ${err.message}`));\n    } else if (typeof vegaEmbed === \"function\") {\n      displayChart(vegaEmbed);\n    } else {\n      loadScript(\"vega\")\n        .then(() => loadScript(\"vega-lite\"))\n        .then(() => loadScript(\"vega-embed\"))\n        .catch(showError)\n        .then(() => displayChart(vegaEmbed));\n    }\n  })({\"config\": {\"view\": {\"continuousWidth\": 400, \"continuousHeight\": 300}}, \"data\": {\"name\": \"data-4f9a0fd8bc51b7ec4096d61ded34985d\"}, \"mark\": \"bar\", \"encoding\": {\"x\": {\"type\": \"quantitative\", \"field\": \"amount\"}, \"y\": {\"type\": \"nominal\", \"field\": \"contributor_fullname\", \"sort\": \"-x\"}}, \"$schema\": \"https://vega.github.io/schema/vega-lite/v4.8.1.json\", \"datasets\": {\"data-4f9a0fd8bc51b7ec4096d61ded34985d\": [{\"contributor_firstname\": \"\", \"contributor_lastname\": \"CALIFORNIA GROCERS ASSOCIATION\", \"committee_position\": \"SUPPORT\", \"amount\": 200000.0, \"contributor_fullname\": \" CALIFORNIA GROCERS ASSOCIATION\"}, {\"contributor_firstname\": \"\", \"contributor_lastname\": \"ALBERTSONS SAFEWAY (FORMERLY KNOWN AS SAFEWAY, INC. INCLUDING ITS AFFILIATED ENTITY THE VONS COMPANIES, INC.)\", \"committee_position\": \"SUPPORT\", \"amount\": 150000.0, \"contributor_fullname\": \" ALBERTSONS SAFEWAY (FORMERLY KNOWN AS SAFEWAY, INC. INCLUDING ITS AFFILIATED ENTITY THE VONS COMPANIES, INC.)\"}, {\"contributor_firstname\": \"JULIE\", \"contributor_lastname\": \"PACKARD\", \"committee_position\": \"SUPPORT\", \"amount\": 105000.0, \"contributor_fullname\": \"JULIE PACKARD\"}, {\"contributor_firstname\": \"\", \"contributor_lastname\": \"CALIFORNIA GROCERS ASSOCIATION ISSUES COMMITTEE (NON PROFIT 501 (C) 6)\", \"committee_position\": \"SUPPORT\", \"amount\": 100000.0, \"contributor_fullname\": \" CALIFORNIA GROCERS ASSOCIATION ISSUES COMMITTEE (NON PROFIT 501 (C) 6)\"}, {\"contributor_firstname\": \"CLAIRE\", \"contributor_lastname\": \"PERRY\", \"committee_position\": \"SUPPORT\", \"amount\": 100000.0, \"contributor_fullname\": \"CLAIRE PERRY\"}]}}, {\"mode\": \"vega-lite\"});\n</script>",
      "text/plain": [
       "alt.Chart(...)"
      ]
     },
     "metadata": {},
     "execution_count": 218
    }
   ],
   "source": [
    "alt.Chart(top_supporters.head(5)).mark_bar().encode(\n",
    "    x=\"amount\",\n",
    "    y=alt.Y(\"contributor_fullname\", sort=\"-x\")\n",
    ")\n",
    "\n",
    "#Sorted -x I guess goes in ascending order"
   ]
  },
  {
   "source": [
    "alt.Chart(top_supporters.head(5)).mark_bar().encode(\n",
    "    x=\"amount\",\n",
    "    y=alt.Y(\"contributor_fullname\", sort=\"-x\")\n",
    ").properties(\n",
    "    title=\"Top Spenders in Support of Proposition 64\"\n",
    ")"
   ],
   "cell_type": "code",
   "metadata": {},
   "execution_count": 219,
   "outputs": [
    {
     "output_type": "execute_result",
     "data": {
      "text/html": "\n<div id=\"altair-viz-06bc78c8c962432eaf82d8bd43f3db69\"></div>\n<script type=\"text/javascript\">\n  (function(spec, embedOpt){\n    let outputDiv = document.currentScript.previousElementSibling;\n    if (outputDiv.id !== \"altair-viz-06bc78c8c962432eaf82d8bd43f3db69\") {\n      outputDiv = document.getElementById(\"altair-viz-06bc78c8c962432eaf82d8bd43f3db69\");\n    }\n    const paths = {\n      \"vega\": \"https://cdn.jsdelivr.net/npm//vega@5?noext\",\n      \"vega-lib\": \"https://cdn.jsdelivr.net/npm//vega-lib?noext\",\n      \"vega-lite\": \"https://cdn.jsdelivr.net/npm//vega-lite@4.8.1?noext\",\n      \"vega-embed\": \"https://cdn.jsdelivr.net/npm//vega-embed@6?noext\",\n    };\n\n    function loadScript(lib) {\n      return new Promise(function(resolve, reject) {\n        var s = document.createElement('script');\n        s.src = paths[lib];\n        s.async = true;\n        s.onload = () => resolve(paths[lib]);\n        s.onerror = () => reject(`Error loading script: ${paths[lib]}`);\n        document.getElementsByTagName(\"head\")[0].appendChild(s);\n      });\n    }\n\n    function showError(err) {\n      outputDiv.innerHTML = `<div class=\"error\" style=\"color:red;\">${err}</div>`;\n      throw err;\n    }\n\n    function displayChart(vegaEmbed) {\n      vegaEmbed(outputDiv, spec, embedOpt)\n        .catch(err => showError(`Javascript Error: ${err.message}<br>This usually means there's a typo in your chart specification. See the javascript console for the full traceback.`));\n    }\n\n    if(typeof define === \"function\" && define.amd) {\n      requirejs.config({paths});\n      require([\"vega-embed\"], displayChart, err => showError(`Error loading script: ${err.message}`));\n    } else if (typeof vegaEmbed === \"function\") {\n      displayChart(vegaEmbed);\n    } else {\n      loadScript(\"vega\")\n        .then(() => loadScript(\"vega-lite\"))\n        .then(() => loadScript(\"vega-embed\"))\n        .catch(showError)\n        .then(() => displayChart(vegaEmbed));\n    }\n  })({\"config\": {\"view\": {\"continuousWidth\": 400, \"continuousHeight\": 300}}, \"data\": {\"name\": \"data-4f9a0fd8bc51b7ec4096d61ded34985d\"}, \"mark\": \"bar\", \"encoding\": {\"x\": {\"type\": \"quantitative\", \"field\": \"amount\"}, \"y\": {\"type\": \"nominal\", \"field\": \"contributor_fullname\", \"sort\": \"-x\"}}, \"title\": \"Top Spenders in Support of Proposition 64\", \"$schema\": \"https://vega.github.io/schema/vega-lite/v4.8.1.json\", \"datasets\": {\"data-4f9a0fd8bc51b7ec4096d61ded34985d\": [{\"contributor_firstname\": \"\", \"contributor_lastname\": \"CALIFORNIA GROCERS ASSOCIATION\", \"committee_position\": \"SUPPORT\", \"amount\": 200000.0, \"contributor_fullname\": \" CALIFORNIA GROCERS ASSOCIATION\"}, {\"contributor_firstname\": \"\", \"contributor_lastname\": \"ALBERTSONS SAFEWAY (FORMERLY KNOWN AS SAFEWAY, INC. INCLUDING ITS AFFILIATED ENTITY THE VONS COMPANIES, INC.)\", \"committee_position\": \"SUPPORT\", \"amount\": 150000.0, \"contributor_fullname\": \" ALBERTSONS SAFEWAY (FORMERLY KNOWN AS SAFEWAY, INC. INCLUDING ITS AFFILIATED ENTITY THE VONS COMPANIES, INC.)\"}, {\"contributor_firstname\": \"JULIE\", \"contributor_lastname\": \"PACKARD\", \"committee_position\": \"SUPPORT\", \"amount\": 105000.0, \"contributor_fullname\": \"JULIE PACKARD\"}, {\"contributor_firstname\": \"\", \"contributor_lastname\": \"CALIFORNIA GROCERS ASSOCIATION ISSUES COMMITTEE (NON PROFIT 501 (C) 6)\", \"committee_position\": \"SUPPORT\", \"amount\": 100000.0, \"contributor_fullname\": \" CALIFORNIA GROCERS ASSOCIATION ISSUES COMMITTEE (NON PROFIT 501 (C) 6)\"}, {\"contributor_firstname\": \"CLAIRE\", \"contributor_lastname\": \"PERRY\", \"committee_position\": \"SUPPORT\", \"amount\": 100000.0, \"contributor_fullname\": \"CLAIRE PERRY\"}]}}, {\"mode\": \"vega-lite\"});\n</script>",
      "text/plain": [
       "alt.Chart(...)"
      ]
     },
     "metadata": {},
     "execution_count": 219
    }
   ]
  },
  {
   "cell_type": "code",
   "execution_count": 220,
   "metadata": {},
   "outputs": [],
   "source": [
    "top_contributors = merged.fillna(\"\").groupby(\n",
    "    [\"contributor_firstname\", \"contributor_lastname\",\"committee_position\"]\n",
    ").amount.sum().reset_index().sort_values(\"amount\", ascending=False).head(10)"
   ]
  },
  {
   "cell_type": "code",
   "execution_count": 221,
   "metadata": {},
   "outputs": [],
   "source": [
    "top_contributors[\"contributor_fullname\"] = top_contributors[\"contributor_firstname\"] + \" \" + top_contributors[\"contributor_lastname\"]\n"
   ]
  },
  {
   "cell_type": "code",
   "execution_count": 222,
   "metadata": {},
   "outputs": [
    {
     "output_type": "execute_result",
     "data": {
      "text/html": "\n<div id=\"altair-viz-0251996ee37947d0b2397c1e53d1d89f\"></div>\n<script type=\"text/javascript\">\n  (function(spec, embedOpt){\n    let outputDiv = document.currentScript.previousElementSibling;\n    if (outputDiv.id !== \"altair-viz-0251996ee37947d0b2397c1e53d1d89f\") {\n      outputDiv = document.getElementById(\"altair-viz-0251996ee37947d0b2397c1e53d1d89f\");\n    }\n    const paths = {\n      \"vega\": \"https://cdn.jsdelivr.net/npm//vega@5?noext\",\n      \"vega-lib\": \"https://cdn.jsdelivr.net/npm//vega-lib?noext\",\n      \"vega-lite\": \"https://cdn.jsdelivr.net/npm//vega-lite@4.8.1?noext\",\n      \"vega-embed\": \"https://cdn.jsdelivr.net/npm//vega-embed@6?noext\",\n    };\n\n    function loadScript(lib) {\n      return new Promise(function(resolve, reject) {\n        var s = document.createElement('script');\n        s.src = paths[lib];\n        s.async = true;\n        s.onload = () => resolve(paths[lib]);\n        s.onerror = () => reject(`Error loading script: ${paths[lib]}`);\n        document.getElementsByTagName(\"head\")[0].appendChild(s);\n      });\n    }\n\n    function showError(err) {\n      outputDiv.innerHTML = `<div class=\"error\" style=\"color:red;\">${err}</div>`;\n      throw err;\n    }\n\n    function displayChart(vegaEmbed) {\n      vegaEmbed(outputDiv, spec, embedOpt)\n        .catch(err => showError(`Javascript Error: ${err.message}<br>This usually means there's a typo in your chart specification. See the javascript console for the full traceback.`));\n    }\n\n    if(typeof define === \"function\" && define.amd) {\n      requirejs.config({paths});\n      require([\"vega-embed\"], displayChart, err => showError(`Error loading script: ${err.message}`));\n    } else if (typeof vegaEmbed === \"function\") {\n      displayChart(vegaEmbed);\n    } else {\n      loadScript(\"vega\")\n        .then(() => loadScript(\"vega-lite\"))\n        .then(() => loadScript(\"vega-embed\"))\n        .catch(showError)\n        .then(() => displayChart(vegaEmbed));\n    }\n  })({\"config\": {\"view\": {\"continuousWidth\": 400, \"continuousHeight\": 300}}, \"data\": {\"name\": \"data-c6a0014800e33c88dbf845e73771c410\"}, \"mark\": \"bar\", \"encoding\": {\"color\": {\"type\": \"nominal\", \"field\": \"committee_position\"}, \"x\": {\"type\": \"quantitative\", \"field\": \"amount\"}, \"y\": {\"type\": \"nominal\", \"field\": \"contributor_fullname\", \"sort\": \"-x\"}}, \"$schema\": \"https://vega.github.io/schema/vega-lite/v4.8.1.json\", \"datasets\": {\"data-c6a0014800e33c88dbf845e73771c410\": [{\"contributor_firstname\": \"\", \"contributor_lastname\": \"HILEX POLY CO. LLC\", \"committee_position\": \"OPPOSE\", \"amount\": 874769.0, \"contributor_fullname\": \" HILEX POLY CO. LLC\"}, {\"contributor_firstname\": \"\", \"contributor_lastname\": \"FORMOSA PLASTICS CORPORATION U.S.A.\", \"committee_position\": \"OPPOSE\", \"amount\": 748441.5, \"contributor_fullname\": \" FORMOSA PLASTICS CORPORATION U.S.A.\"}, {\"contributor_firstname\": \"\", \"contributor_lastname\": \"SUPERBAG CORP.\", \"committee_position\": \"OPPOSE\", \"amount\": 609369.75, \"contributor_fullname\": \" SUPERBAG CORP.\"}, {\"contributor_firstname\": \"\", \"contributor_lastname\": \"ADVANCE POLYBAG, INC.\", \"committee_position\": \"OPPOSE\", \"amount\": 446833.0, \"contributor_fullname\": \" ADVANCE POLYBAG, INC.\"}, {\"contributor_firstname\": \"\", \"contributor_lastname\": \"CALIFORNIA GROCERS ASSOCIATION\", \"committee_position\": \"SUPPORT\", \"amount\": 200000.0, \"contributor_fullname\": \" CALIFORNIA GROCERS ASSOCIATION\"}]}}, {\"mode\": \"vega-lite\"});\n</script>",
      "text/plain": [
       "alt.Chart(...)"
      ]
     },
     "metadata": {},
     "execution_count": 222
    }
   ],
   "source": [
    "alt.Chart(top_contributors.head(5)).mark_bar().encode(\n",
    "    x=\"amount\",\n",
    "    y=alt.Y(\"contributor_fullname\",sort=\"-x\"),\n",
    "    color=\"committee_position\"\n",
    ")"
   ]
  },
  {
   "cell_type": "code",
   "execution_count": 223,
   "metadata": {},
   "outputs": [],
   "source": [
    "top_supporters.head(5).to_csv(\"top_supporters.csv\")"
   ]
  },
  {
   "cell_type": "code",
   "execution_count": 224,
   "metadata": {},
   "outputs": [],
   "source": [
    "bizOwner = merged.groupby([\"contributor_is_self_employed\", \"committee_position\"])"
   ]
  },
  {
   "cell_type": "code",
   "execution_count": 228,
   "metadata": {},
   "outputs": [
    {
     "output_type": "execute_result",
     "data": {
      "text/plain": [
       "                                                 calaccess_prop_id  \\\n",
       "contributor_is_self_employed committee_position                      \n",
       "False                        OPPOSE                       37061226   \n",
       "                             SUPPORT                    7596178692   \n",
       "True                         SUPPORT                     985554084   \n",
       "\n",
       "                                                 ccdc_prop_id  \\\n",
       "contributor_is_self_employed committee_position                 \n",
       "False                        OPPOSE                      2322   \n",
       "                             SUPPORT                   475924   \n",
       "True                         SUPPORT                    61748   \n",
       "\n",
       "                                                 ccdc_committee_id  \\\n",
       "contributor_is_self_employed committee_position                      \n",
       "False                        OPPOSE                          12906   \n",
       "                             SUPPORT                       2650671   \n",
       "True                         SUPPORT                        343922   \n",
       "\n",
       "                                                 calaccess_committee_id  \\\n",
       "contributor_is_self_employed committee_position                           \n",
       "False                        OPPOSE                            37068354   \n",
       "                             SUPPORT                         7365576314   \n",
       "True                         SUPPORT                          954460376   \n",
       "\n",
       "                                                 calaccess_filing_id  \\\n",
       "contributor_is_self_employed committee_position                        \n",
       "False                        OPPOSE                         55082452   \n",
       "                             SUPPORT                     11274901378   \n",
       "True                         SUPPORT                      1450610242   \n",
       "\n",
       "                                                     amount  \n",
       "contributor_is_self_employed committee_position              \n",
       "False                        OPPOSE              2681413.25  \n",
       "                             SUPPORT             1709976.75  \n",
       "True                         SUPPORT               79184.00  "
      ],
      "text/html": "<div>\n<style scoped>\n    .dataframe tbody tr th:only-of-type {\n        vertical-align: middle;\n    }\n\n    .dataframe tbody tr th {\n        vertical-align: top;\n    }\n\n    .dataframe thead th {\n        text-align: right;\n    }\n</style>\n<table border=\"1\" class=\"dataframe\">\n  <thead>\n    <tr style=\"text-align: right;\">\n      <th></th>\n      <th></th>\n      <th>calaccess_prop_id</th>\n      <th>ccdc_prop_id</th>\n      <th>ccdc_committee_id</th>\n      <th>calaccess_committee_id</th>\n      <th>calaccess_filing_id</th>\n      <th>amount</th>\n    </tr>\n    <tr>\n      <th>contributor_is_self_employed</th>\n      <th>committee_position</th>\n      <th></th>\n      <th></th>\n      <th></th>\n      <th></th>\n      <th></th>\n      <th></th>\n    </tr>\n  </thead>\n  <tbody>\n    <tr>\n      <th rowspan=\"2\" valign=\"top\">False</th>\n      <th>OPPOSE</th>\n      <td>37061226</td>\n      <td>2322</td>\n      <td>12906</td>\n      <td>37068354</td>\n      <td>55082452</td>\n      <td>2681413.25</td>\n    </tr>\n    <tr>\n      <th>SUPPORT</th>\n      <td>7596178692</td>\n      <td>475924</td>\n      <td>2650671</td>\n      <td>7365576314</td>\n      <td>11274901378</td>\n      <td>1709976.75</td>\n    </tr>\n    <tr>\n      <th>True</th>\n      <th>SUPPORT</th>\n      <td>985554084</td>\n      <td>61748</td>\n      <td>343922</td>\n      <td>954460376</td>\n      <td>1450610242</td>\n      <td>79184.00</td>\n    </tr>\n  </tbody>\n</table>\n</div>"
     },
     "metadata": {},
     "execution_count": 228
    }
   ],
   "source": [
    "bizOwner.sum()"
   ]
  },
  {
   "cell_type": "code",
   "execution_count": 232,
   "metadata": {},
   "outputs": [
    {
     "output_type": "execute_result",
     "data": {
      "text/plain": [
       "   contributor_is_self_employed committee_position      amount\n",
       "0                         False             OPPOSE  2681413.25\n",
       "1                         False            SUPPORT  1709976.75\n",
       "2                          True            SUPPORT    79184.00"
      ],
      "text/html": "<div>\n<style scoped>\n    .dataframe tbody tr th:only-of-type {\n        vertical-align: middle;\n    }\n\n    .dataframe tbody tr th {\n        vertical-align: top;\n    }\n\n    .dataframe thead th {\n        text-align: right;\n    }\n</style>\n<table border=\"1\" class=\"dataframe\">\n  <thead>\n    <tr style=\"text-align: right;\">\n      <th></th>\n      <th>contributor_is_self_employed</th>\n      <th>committee_position</th>\n      <th>amount</th>\n    </tr>\n  </thead>\n  <tbody>\n    <tr>\n      <th>0</th>\n      <td>False</td>\n      <td>OPPOSE</td>\n      <td>2681413.25</td>\n    </tr>\n    <tr>\n      <th>1</th>\n      <td>False</td>\n      <td>SUPPORT</td>\n      <td>1709976.75</td>\n    </tr>\n    <tr>\n      <th>2</th>\n      <td>True</td>\n      <td>SUPPORT</td>\n      <td>79184.00</td>\n    </tr>\n  </tbody>\n</table>\n</div>"
     },
     "metadata": {},
     "execution_count": 232
    }
   ],
   "source": [
    "bizOwner.amount.sum().reset_index()"
   ]
  },
  {
   "cell_type": "code",
   "execution_count": null,
   "metadata": {},
   "outputs": [],
   "source": []
  }
 ],
 "metadata": {
  "kernelspec": {
   "display_name": "Python 3",
   "language": "python",
   "name": "python3"
  },
  "language_info": {
   "codemirror_mode": {
    "name": "ipython",
    "version": 3
   },
   "file_extension": ".py",
   "mimetype": "text/x-python",
   "name": "python",
   "nbconvert_exporter": "python",
   "pygments_lexer": "ipython3",
   "version": "3.9.1-final"
  }
 },
 "nbformat": 4,
 "nbformat_minor": 5
}